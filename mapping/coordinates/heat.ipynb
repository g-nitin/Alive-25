{
 "cells": [
  {
   "cell_type": "code",
   "id": "initial_id",
   "metadata": {
    "collapsed": true,
    "ExecuteTime": {
     "end_time": "2024-07-15T02:18:26.918897Z",
     "start_time": "2024-07-15T02:18:26.409330Z"
    }
   },
   "source": [
    "import pandas as pd\n",
    "import folium\n",
    "from folium.plugins import HeatMapWithTime\n",
    "from map import check_cols\n",
    "import json\n",
    "from shapely.geometry import Point, Polygon"
   ],
   "outputs": [],
   "execution_count": 1
  },
  {
   "metadata": {
    "ExecuteTime": {
     "end_time": "2024-07-15T02:18:30.027738Z",
     "start_time": "2024-07-15T02:18:26.919950Z"
    }
   },
   "cell_type": "code",
   "source": [
    "# Read data files\n",
    "df = []\n",
    "for year in range(2017, 2022):\n",
    "    data = pd.read_csv(f'../../usc_data/sc_loc{year}.csv', low_memory=False)\n",
    "    data['year'] = year\n",
    "\n",
    "    # Check if the columns are consistent\n",
    "    _, data = check_cols('lat', 'lon', data, \"\")\n",
    "\n",
    "    df.append(data)\n",
    "\n",
    "# Combine the dataframes\n",
    "df = pd.concat(df, ignore_index=True)\n",
    "len_0 = len(df)  # Initial length\n",
    "print(f\"Length of the dataset: {len_0:,}\")"
   ],
   "id": "5e0295fc2d04533e",
   "outputs": [
    {
     "name": "stdout",
     "output_type": "stream",
     "text": [
      "Length of the dataset: 694,335\n"
     ]
    }
   ],
   "execution_count": 2
  },
  {
   "metadata": {
    "ExecuteTime": {
     "end_time": "2024-07-15T02:18:30.037152Z",
     "start_time": "2024-07-15T02:18:30.028767Z"
    }
   },
   "cell_type": "code",
   "source": [
    "# Convert lat and lon to correct decimal degrees\n",
    "df['lat'] = df['lat'] / 1_000_000\n",
    "df['lon'] = - (df['lon'] / 1000000)  # Note the negative sign for longitude"
   ],
   "id": "4210bc49d4e30b26",
   "outputs": [],
   "execution_count": 3
  },
  {
   "metadata": {},
   "cell_type": "markdown",
   "source": "### Data Filtering for South Carolina",
   "id": "4bd9a265590a9ffa"
  },
  {
   "metadata": {
    "ExecuteTime": {
     "end_time": "2024-07-15T02:18:30.040604Z",
     "start_time": "2024-07-15T02:18:30.037872Z"
    }
   },
   "cell_type": "code",
   "source": [
    "# Load the GeoJSON file\n",
    "with open(\"south carolina.geojson\", 'r') as f:\n",
    "    sc_geojson = json.load(f)\n",
    "\n",
    "# Extract coordinates and create a Shapely polygon\n",
    "sc_coords = sc_geojson['geometry']['coordinates'][0]\n",
    "sc_polygon = Polygon(sc_coords)"
   ],
   "id": "6f779da612ee8383",
   "outputs": [],
   "execution_count": 4
  },
  {
   "metadata": {
    "ExecuteTime": {
     "end_time": "2024-07-15T02:18:51.141771Z",
     "start_time": "2024-07-15T02:18:30.042253Z"
    }
   },
   "cell_type": "code",
   "source": [
    "# Filter points and calculate exclusion percentage\n",
    "len_1 = df.shape[0]  # New length\n",
    "\n",
    "df['in_sc'] = df.apply(lambda row: sc_polygon.contains(Point(row['lon'], row['lat'])), axis=1)\n",
    "df = df[df['in_sc']]  # Keep only points within South Carolina\n",
    "\n",
    "print(f\"Points after pre-processing : {len_1:,}\")\n",
    "print(f\"Points within SC            : {df.shape[0]:,}\")\n",
    "print(f\"Excluded points             : {(len_1 - df.shape[0]):,}\")\n",
    "print(f\"Exclusion percentage        : {(len_1 - df.shape[0])/ len_1:.2%}\")"
   ],
   "id": "b4573eac8677d69d",
   "outputs": [
    {
     "name": "stdout",
     "output_type": "stream",
     "text": [
      "Points after pre-processing : 694,335\n",
      "Points within SC            : 500,662\n",
      "Excluded points             : 193,673\n",
      "Exclusion percentage        : 27.89%\n"
     ]
    }
   ],
   "execution_count": 5
  },
  {
   "metadata": {
    "ExecuteTime": {
     "end_time": "2024-07-15T02:18:51.515957Z",
     "start_time": "2024-07-15T02:18:51.142810Z"
    }
   },
   "cell_type": "code",
   "source": [
    "# Create a list to store data for each year\n",
    "data_by_year = []\n",
    "\n",
    "for year in range(2017, 2022):\n",
    "    year_data = df[df['year'] == year]\n",
    "    data_by_year.append(year_data[['lat', 'lon']].values.tolist())"
   ],
   "id": "4b25dd05a06fbf79",
   "outputs": [],
   "execution_count": 6
  },
  {
   "metadata": {
    "ExecuteTime": {
     "end_time": "2024-07-15T02:18:51.520066Z",
     "start_time": "2024-07-15T02:18:51.516656Z"
    }
   },
   "cell_type": "code",
   "source": [
    "# Create a map centered on South Carolina\n",
    "sc_center_lat, sc_center_lon = 33.8361, -81.1637  # Approximate center of SC\n",
    "m = folium.Map(location=[sc_center_lat, sc_center_lon], zoom_start=7)"
   ],
   "id": "45e775696dd0cfe5",
   "outputs": [],
   "execution_count": 7
  },
  {
   "metadata": {
    "ExecuteTime": {
     "end_time": "2024-07-15T02:18:51.524849Z",
     "start_time": "2024-07-15T02:18:51.520803Z"
    }
   },
   "cell_type": "code",
   "source": [
    "# Add borders to the map for South Carolina\n",
    "bordersStyle = {\n",
    "    'color': 'green',\n",
    "    'weight': 2,\n",
    "    'fillColor': 'blue',\n",
    "    'fillOpacity': 0.1\n",
    "}\n",
    "\n",
    "# File (`south carolina.geojson`) downloaded from https://github.com/glynnbird/usstatesgeojson/blob/master/south%20carolina.geojson\n",
    "# File (`South Carolina County Boundaries.geojson`) downloaded from https://cartographyvectors.com/map/1123-south-carolina-with-county-boundaries\n",
    "folium.GeoJson(\n",
    "    data=(open(\"South Carolina County Boundaries.geojson\", 'r').read()),\n",
    "    name=\"South Carolina\",\n",
    "    style_function=lambda x: bordersStyle).add_to(m);"
   ],
   "id": "7ed94d8461ecc73f",
   "outputs": [],
   "execution_count": 8
  },
  {
   "metadata": {
    "ExecuteTime": {
     "end_time": "2024-07-15T02:18:51.527615Z",
     "start_time": "2024-07-15T02:18:51.525406Z"
    }
   },
   "cell_type": "code",
   "source": [
    "# Add the heatmap with time component\n",
    "HeatMapWithTime(data_by_year,\n",
    "                name=\"Heatmap with Time\",\n",
    "                radius=15,\n",
    "                auto_play=True,\n",
    "                position='bottomright',\n",
    "                max_opacity=0.8,\n",
    "                index=[str(year) for year in range(2017, 2022)]\n",
    "                ).add_to(m)\n",
    "\n",
    "# Add a layer control\n",
    "folium.LayerControl().add_to(m);"
   ],
   "id": "2765c89e07c7e351",
   "outputs": [],
   "execution_count": 9
  },
  {
   "metadata": {
    "ExecuteTime": {
     "end_time": "2024-07-15T02:18:52.489900Z",
     "start_time": "2024-07-15T02:18:51.528304Z"
    }
   },
   "cell_type": "code",
   "source": [
    "# Save the map\n",
    "file_name: str = f\"../maps/heat_map.html\"\n",
    "m.save(file_name)\n",
    "print(f\"Map saved as {file_name}\")"
   ],
   "id": "b621c26a05606679",
   "outputs": [
    {
     "name": "stdout",
     "output_type": "stream",
     "text": [
      "Map saved as ../maps/heat_map.html\n"
     ]
    }
   ],
   "execution_count": 10
  }
 ],
 "metadata": {
  "kernelspec": {
   "display_name": "Python 3",
   "language": "python",
   "name": "python3"
  },
  "language_info": {
   "codemirror_mode": {
    "name": "ipython",
    "version": 2
   },
   "file_extension": ".py",
   "mimetype": "text/x-python",
   "name": "python",
   "nbconvert_exporter": "python",
   "pygments_lexer": "ipython2",
   "version": "2.7.6"
  }
 },
 "nbformat": 4,
 "nbformat_minor": 5
}
