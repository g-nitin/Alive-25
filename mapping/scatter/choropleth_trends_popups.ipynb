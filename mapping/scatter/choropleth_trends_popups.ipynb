{
 "cells": [
  {
   "metadata": {},
   "cell_type": "markdown",
   "source": [
    "# Changes in Traffic Accidents by County Over Time\n",
    "<br>This code analyzes traffic accident data across counties over time.\n",
    "<br>It processes CSVs, calculates year-over-year changes in accidents, and computes a cumulative score for each county.\n",
    "<br>The results are visualized in an interactive choropleth map, color-coding counties based on their accident trend scores and displaying county names and scores on hover.\n",
    "<br>Additionally, line charts showing yearly accident counts for each county are embedded in popups."
   ],
   "id": "d9c77fe92d69040"
  },
  {
   "metadata": {
    "ExecuteTime": {
     "end_time": "2024-07-24T17:07:38.820551Z",
     "start_time": "2024-07-24T17:07:37.927445Z"
    }
   },
   "cell_type": "code",
   "source": [
    "import pandas as pd\n",
    "import geopandas as gpd\n",
    "from scatter import check_cols\n",
    "import folium\n",
    "from folium.plugins import MarkerCluster\n",
    "import branca.colormap as cm\n",
    "import matplotlib.pyplot as plt\n",
    "import io\n",
    "import base64"
   ],
   "id": "6a5c88eb37ba294d",
   "outputs": [],
   "execution_count": 1
  },
  {
   "metadata": {
    "ExecuteTime": {
     "end_time": "2024-07-24T17:07:41.942974Z",
     "start_time": "2024-07-24T17:07:38.821615Z"
    }
   },
   "cell_type": "code",
   "source": [
    "# Read data files\n",
    "df = []\n",
    "for year in range(2017, 2022):\n",
    "    data = pd.read_csv(f'../../sc_data/sc_loc{year}.csv', low_memory=False)\n",
    "    data['year'] = year\n",
    "\n",
    "    # Check if the columns are consistent\n",
    "    _, data = check_cols('lat', 'lon', data, \"\")\n",
    "\n",
    "    df.append(data)\n",
    "\n",
    "# Combine the dataframes\n",
    "df = pd.concat(df, ignore_index=True)\n",
    "print(f\"Length of the dataset: {len(df):,}\")"
   ],
   "id": "a21764230ba4a73f",
   "outputs": [
    {
     "name": "stdout",
     "output_type": "stream",
     "text": [
      "Length of the dataset: 694,335\n"
     ]
    }
   ],
   "execution_count": 2
  },
  {
   "metadata": {
    "ExecuteTime": {
     "end_time": "2024-07-24T17:07:41.949593Z",
     "start_time": "2024-07-24T17:07:41.943678Z"
    }
   },
   "cell_type": "code",
   "source": "df['year'].value_counts()",
   "id": "5330f9a7368b72d5",
   "outputs": [
    {
     "data": {
      "text/plain": [
       "year\n",
       "2021    147724\n",
       "2018    142406\n",
       "2017    141874\n",
       "2019    141096\n",
       "2020    121235\n",
       "Name: count, dtype: int64"
      ]
     },
     "execution_count": 3,
     "metadata": {},
     "output_type": "execute_result"
    }
   ],
   "execution_count": 3
  },
  {
   "metadata": {
    "ExecuteTime": {
     "end_time": "2024-07-24T17:07:42.276893Z",
     "start_time": "2024-07-24T17:07:41.950246Z"
    }
   },
   "cell_type": "code",
   "source": [
    "# Replace the numerical representation with county names\n",
    "county_dict = {\n",
    "    1: 'Abbeville', 2: 'Aiken', 3: 'Allendale', 4: 'Anderson', 5: 'Bamberg',\n",
    "    6: 'Barnwell', 7: 'Beaufort', 8: 'Berkeley', 9: 'Calhoun', 10: 'Charleston',\n",
    "    11: 'Cherokee', 12: 'Chester', 13: 'Chesterfield', 14: 'Clarendon', 15: 'Colleton',\n",
    "    16: 'Darlington', 17: 'Dillon', 18: 'Dorchester', 19: 'Edgefield', 20: 'Fairfield',\n",
    "    21: 'Florence', 22: 'Georgetown', 23: 'Greenville', 24: 'Greenwood', 25: 'Hampton',\n",
    "    26: 'Horry', 27: 'Jasper', 28: 'Kershaw', 29: 'Lancaster', 30: 'Laurens',\n",
    "    31: 'Lee', 32: 'Lexington', 33: 'McCormick', 34: 'Marion', 35: 'Marlboro',\n",
    "    36: 'Newberry', 37: 'Oconee', 38: 'Orangeburg', 39: 'Pickens', 40: 'Richland',\n",
    "    41: 'Saluda', 42: 'Spartanburg', 43: 'Sumter', 44: 'Union', 45: 'Williamsburg',\n",
    "    46: 'York'\n",
    "}\n",
    "df['cty'] = df['cty'].replace(county_dict)"
   ],
   "id": "db74dac6b2cbc399",
   "outputs": [],
   "execution_count": 4
  },
  {
   "metadata": {
    "ExecuteTime": {
     "end_time": "2024-07-24T17:07:42.325747Z",
     "start_time": "2024-07-24T17:07:42.278331Z"
    }
   },
   "cell_type": "code",
   "source": [
    "# Group by county and year, count accidents\n",
    "accidents_by_county_year = df.groupby(['cty', 'year']).size().unstack(fill_value=0)\n",
    "accidents_by_county_year.head()"
   ],
   "id": "f073d0add192d4a",
   "outputs": [
    {
     "data": {
      "text/plain": [
       "year       2017  2018  2019  2020  2021\n",
       "cty                                    \n",
       "Abbeville   327   346   287   299   355\n",
       "Aiken      4081  3907  4081  3544  4406\n",
       "Allendale   119   119   113   105   127\n",
       "Anderson   5391  5428  5094  4704  5930\n",
       "Bamberg     185   177   205   194   211"
      ],
      "text/html": [
       "<div>\n",
       "<style scoped>\n",
       "    .dataframe tbody tr th:only-of-type {\n",
       "        vertical-align: middle;\n",
       "    }\n",
       "\n",
       "    .dataframe tbody tr th {\n",
       "        vertical-align: top;\n",
       "    }\n",
       "\n",
       "    .dataframe thead th {\n",
       "        text-align: right;\n",
       "    }\n",
       "</style>\n",
       "<table border=\"1\" class=\"dataframe\">\n",
       "  <thead>\n",
       "    <tr style=\"text-align: right;\">\n",
       "      <th>year</th>\n",
       "      <th>2017</th>\n",
       "      <th>2018</th>\n",
       "      <th>2019</th>\n",
       "      <th>2020</th>\n",
       "      <th>2021</th>\n",
       "    </tr>\n",
       "    <tr>\n",
       "      <th>cty</th>\n",
       "      <th></th>\n",
       "      <th></th>\n",
       "      <th></th>\n",
       "      <th></th>\n",
       "      <th></th>\n",
       "    </tr>\n",
       "  </thead>\n",
       "  <tbody>\n",
       "    <tr>\n",
       "      <th>Abbeville</th>\n",
       "      <td>327</td>\n",
       "      <td>346</td>\n",
       "      <td>287</td>\n",
       "      <td>299</td>\n",
       "      <td>355</td>\n",
       "    </tr>\n",
       "    <tr>\n",
       "      <th>Aiken</th>\n",
       "      <td>4081</td>\n",
       "      <td>3907</td>\n",
       "      <td>4081</td>\n",
       "      <td>3544</td>\n",
       "      <td>4406</td>\n",
       "    </tr>\n",
       "    <tr>\n",
       "      <th>Allendale</th>\n",
       "      <td>119</td>\n",
       "      <td>119</td>\n",
       "      <td>113</td>\n",
       "      <td>105</td>\n",
       "      <td>127</td>\n",
       "    </tr>\n",
       "    <tr>\n",
       "      <th>Anderson</th>\n",
       "      <td>5391</td>\n",
       "      <td>5428</td>\n",
       "      <td>5094</td>\n",
       "      <td>4704</td>\n",
       "      <td>5930</td>\n",
       "    </tr>\n",
       "    <tr>\n",
       "      <th>Bamberg</th>\n",
       "      <td>185</td>\n",
       "      <td>177</td>\n",
       "      <td>205</td>\n",
       "      <td>194</td>\n",
       "      <td>211</td>\n",
       "    </tr>\n",
       "  </tbody>\n",
       "</table>\n",
       "</div>"
      ]
     },
     "execution_count": 5,
     "metadata": {},
     "output_type": "execute_result"
    }
   ],
   "execution_count": 5
  },
  {
   "metadata": {
    "ExecuteTime": {
     "end_time": "2024-07-24T17:07:42.331579Z",
     "start_time": "2024-07-24T17:07:42.326443Z"
    }
   },
   "cell_type": "code",
   "source": [
    "# Calculate year-over-year change\n",
    "yoy_change = accidents_by_county_year.diff(axis=1)\n",
    "yoy_change.head()"
   ],
   "id": "1bcd2ce76ef32f5a",
   "outputs": [
    {
     "data": {
      "text/plain": [
       "year       2017  2018  2019  2020  2021\n",
       "cty                                    \n",
       "Abbeville   NaN    19   -59    12    56\n",
       "Aiken       NaN  -174   174  -537   862\n",
       "Allendale   NaN     0    -6    -8    22\n",
       "Anderson    NaN    37  -334  -390  1226\n",
       "Bamberg     NaN    -8    28   -11    17"
      ],
      "text/html": [
       "<div>\n",
       "<style scoped>\n",
       "    .dataframe tbody tr th:only-of-type {\n",
       "        vertical-align: middle;\n",
       "    }\n",
       "\n",
       "    .dataframe tbody tr th {\n",
       "        vertical-align: top;\n",
       "    }\n",
       "\n",
       "    .dataframe thead th {\n",
       "        text-align: right;\n",
       "    }\n",
       "</style>\n",
       "<table border=\"1\" class=\"dataframe\">\n",
       "  <thead>\n",
       "    <tr style=\"text-align: right;\">\n",
       "      <th>year</th>\n",
       "      <th>2017</th>\n",
       "      <th>2018</th>\n",
       "      <th>2019</th>\n",
       "      <th>2020</th>\n",
       "      <th>2021</th>\n",
       "    </tr>\n",
       "    <tr>\n",
       "      <th>cty</th>\n",
       "      <th></th>\n",
       "      <th></th>\n",
       "      <th></th>\n",
       "      <th></th>\n",
       "      <th></th>\n",
       "    </tr>\n",
       "  </thead>\n",
       "  <tbody>\n",
       "    <tr>\n",
       "      <th>Abbeville</th>\n",
       "      <td>NaN</td>\n",
       "      <td>19</td>\n",
       "      <td>-59</td>\n",
       "      <td>12</td>\n",
       "      <td>56</td>\n",
       "    </tr>\n",
       "    <tr>\n",
       "      <th>Aiken</th>\n",
       "      <td>NaN</td>\n",
       "      <td>-174</td>\n",
       "      <td>174</td>\n",
       "      <td>-537</td>\n",
       "      <td>862</td>\n",
       "    </tr>\n",
       "    <tr>\n",
       "      <th>Allendale</th>\n",
       "      <td>NaN</td>\n",
       "      <td>0</td>\n",
       "      <td>-6</td>\n",
       "      <td>-8</td>\n",
       "      <td>22</td>\n",
       "    </tr>\n",
       "    <tr>\n",
       "      <th>Anderson</th>\n",
       "      <td>NaN</td>\n",
       "      <td>37</td>\n",
       "      <td>-334</td>\n",
       "      <td>-390</td>\n",
       "      <td>1226</td>\n",
       "    </tr>\n",
       "    <tr>\n",
       "      <th>Bamberg</th>\n",
       "      <td>NaN</td>\n",
       "      <td>-8</td>\n",
       "      <td>28</td>\n",
       "      <td>-11</td>\n",
       "      <td>17</td>\n",
       "    </tr>\n",
       "  </tbody>\n",
       "</table>\n",
       "</div>"
      ]
     },
     "execution_count": 6,
     "metadata": {},
     "output_type": "execute_result"
    }
   ],
   "execution_count": 6
  },
  {
   "metadata": {
    "ExecuteTime": {
     "end_time": "2024-07-24T17:07:42.340849Z",
     "start_time": "2024-07-24T17:07:42.332279Z"
    }
   },
   "cell_type": "code",
   "source": [
    "# Compute cumulative score\n",
    "cumulative_score = yoy_change.apply(lambda x: (x > 0).astype(int) - (x < 0).astype(int)).cumsum(axis=1)\n",
    "cumulative_score.head()"
   ],
   "id": "4c7aad3fd97688a9",
   "outputs": [
    {
     "data": {
      "text/plain": [
       "year       2017  2018  2019  2020  2021\n",
       "cty                                    \n",
       "Abbeville     0     1     0     1     2\n",
       "Aiken         0    -1     0    -1     0\n",
       "Allendale     0     0    -1    -2    -1\n",
       "Anderson      0     1     0    -1     0\n",
       "Bamberg       0    -1     0    -1     0"
      ],
      "text/html": [
       "<div>\n",
       "<style scoped>\n",
       "    .dataframe tbody tr th:only-of-type {\n",
       "        vertical-align: middle;\n",
       "    }\n",
       "\n",
       "    .dataframe tbody tr th {\n",
       "        vertical-align: top;\n",
       "    }\n",
       "\n",
       "    .dataframe thead th {\n",
       "        text-align: right;\n",
       "    }\n",
       "</style>\n",
       "<table border=\"1\" class=\"dataframe\">\n",
       "  <thead>\n",
       "    <tr style=\"text-align: right;\">\n",
       "      <th>year</th>\n",
       "      <th>2017</th>\n",
       "      <th>2018</th>\n",
       "      <th>2019</th>\n",
       "      <th>2020</th>\n",
       "      <th>2021</th>\n",
       "    </tr>\n",
       "    <tr>\n",
       "      <th>cty</th>\n",
       "      <th></th>\n",
       "      <th></th>\n",
       "      <th></th>\n",
       "      <th></th>\n",
       "      <th></th>\n",
       "    </tr>\n",
       "  </thead>\n",
       "  <tbody>\n",
       "    <tr>\n",
       "      <th>Abbeville</th>\n",
       "      <td>0</td>\n",
       "      <td>1</td>\n",
       "      <td>0</td>\n",
       "      <td>1</td>\n",
       "      <td>2</td>\n",
       "    </tr>\n",
       "    <tr>\n",
       "      <th>Aiken</th>\n",
       "      <td>0</td>\n",
       "      <td>-1</td>\n",
       "      <td>0</td>\n",
       "      <td>-1</td>\n",
       "      <td>0</td>\n",
       "    </tr>\n",
       "    <tr>\n",
       "      <th>Allendale</th>\n",
       "      <td>0</td>\n",
       "      <td>0</td>\n",
       "      <td>-1</td>\n",
       "      <td>-2</td>\n",
       "      <td>-1</td>\n",
       "    </tr>\n",
       "    <tr>\n",
       "      <th>Anderson</th>\n",
       "      <td>0</td>\n",
       "      <td>1</td>\n",
       "      <td>0</td>\n",
       "      <td>-1</td>\n",
       "      <td>0</td>\n",
       "    </tr>\n",
       "    <tr>\n",
       "      <th>Bamberg</th>\n",
       "      <td>0</td>\n",
       "      <td>-1</td>\n",
       "      <td>0</td>\n",
       "      <td>-1</td>\n",
       "      <td>0</td>\n",
       "    </tr>\n",
       "  </tbody>\n",
       "</table>\n",
       "</div>"
      ]
     },
     "execution_count": 7,
     "metadata": {},
     "output_type": "execute_result"
    }
   ],
   "execution_count": 7
  },
  {
   "metadata": {
    "ExecuteTime": {
     "end_time": "2024-07-24T17:07:42.345887Z",
     "start_time": "2024-07-24T17:07:42.341993Z"
    }
   },
   "cell_type": "code",
   "source": [
    "# Get the final score (last column of cumulative_score)\n",
    "final_score = cumulative_score.iloc[:, -1]\n",
    "final_score.head()"
   ],
   "id": "2d0d83462703eeaf",
   "outputs": [
    {
     "data": {
      "text/plain": [
       "cty\n",
       "Abbeville    2\n",
       "Aiken        0\n",
       "Allendale   -1\n",
       "Anderson     0\n",
       "Bamberg      0\n",
       "Name: 2021, dtype: int64"
      ]
     },
     "execution_count": 8,
     "metadata": {},
     "output_type": "execute_result"
    }
   ],
   "execution_count": 8
  },
  {
   "metadata": {
    "ExecuteTime": {
     "end_time": "2024-07-24T17:07:42.352787Z",
     "start_time": "2024-07-24T17:07:42.346672Z"
    }
   },
   "cell_type": "code",
   "source": [
    "# Create a DataFrame with county, final score, and the\n",
    "final_df = pd.DataFrame({\n",
    "    'county': final_score.index,\n",
    "    'score': final_score.values,\n",
    "}).reset_index(drop=True)\n",
    "final_df.head()"
   ],
   "id": "5101e24ad09a066f",
   "outputs": [
    {
     "data": {
      "text/plain": [
       "      county  score\n",
       "0  Abbeville      2\n",
       "1      Aiken      0\n",
       "2  Allendale     -1\n",
       "3   Anderson      0\n",
       "4    Bamberg      0"
      ],
      "text/html": [
       "<div>\n",
       "<style scoped>\n",
       "    .dataframe tbody tr th:only-of-type {\n",
       "        vertical-align: middle;\n",
       "    }\n",
       "\n",
       "    .dataframe tbody tr th {\n",
       "        vertical-align: top;\n",
       "    }\n",
       "\n",
       "    .dataframe thead th {\n",
       "        text-align: right;\n",
       "    }\n",
       "</style>\n",
       "<table border=\"1\" class=\"dataframe\">\n",
       "  <thead>\n",
       "    <tr style=\"text-align: right;\">\n",
       "      <th></th>\n",
       "      <th>county</th>\n",
       "      <th>score</th>\n",
       "    </tr>\n",
       "  </thead>\n",
       "  <tbody>\n",
       "    <tr>\n",
       "      <th>0</th>\n",
       "      <td>Abbeville</td>\n",
       "      <td>2</td>\n",
       "    </tr>\n",
       "    <tr>\n",
       "      <th>1</th>\n",
       "      <td>Aiken</td>\n",
       "      <td>0</td>\n",
       "    </tr>\n",
       "    <tr>\n",
       "      <th>2</th>\n",
       "      <td>Allendale</td>\n",
       "      <td>-1</td>\n",
       "    </tr>\n",
       "    <tr>\n",
       "      <th>3</th>\n",
       "      <td>Anderson</td>\n",
       "      <td>0</td>\n",
       "    </tr>\n",
       "    <tr>\n",
       "      <th>4</th>\n",
       "      <td>Bamberg</td>\n",
       "      <td>0</td>\n",
       "    </tr>\n",
       "  </tbody>\n",
       "</table>\n",
       "</div>"
      ]
     },
     "execution_count": 9,
     "metadata": {},
     "output_type": "execute_result"
    }
   ],
   "execution_count": 9
  },
  {
   "metadata": {
    "ExecuteTime": {
     "end_time": "2024-07-24T17:07:42.451669Z",
     "start_time": "2024-07-24T17:07:42.353508Z"
    }
   },
   "cell_type": "code",
   "source": [
    "# Load county boundaries\n",
    "counties_gdf = gpd.read_file('South Carolina County Boundaries.geojson')\n",
    "\n",
    "# Merge accident data with geospatial data\n",
    "merged_data = counties_gdf.merge(final_df, left_on='name', right_on='county')\n",
    "merged_data.head()"
   ],
   "id": "9dfe909ef08e403b",
   "outputs": [
    {
     "data": {
      "text/plain": [
       "           name     id STATE    TYPE CNTRY  \\\n",
       "0          York  45091    SC  County   USA   \n",
       "1  Williamsburg  45089    SC  County   USA   \n",
       "2         Union  45087    SC  County   USA   \n",
       "3        Sumter  45085    SC  County   USA   \n",
       "4   Spartanburg  45083    SC  County   USA   \n",
       "\n",
       "                                            geometry        county  score  \n",
       "0  POLYGON ((-80.90200 35.07200, -80.90600 35.050...          York      0  \n",
       "1  POLYGON ((-79.32500 33.79900, -79.31700 33.780...  Williamsburg      0  \n",
       "2  POLYGON ((-81.71200 34.91300, -81.69500 34.909...         Union      0  \n",
       "3  POLYGON ((-80.00100 34.04800, -79.95600 34.020...        Sumter      0  \n",
       "4  POLYGON ((-81.71200 34.91300, -81.74300 34.882...   Spartanburg      0  "
      ],
      "text/html": [
       "<div>\n",
       "<style scoped>\n",
       "    .dataframe tbody tr th:only-of-type {\n",
       "        vertical-align: middle;\n",
       "    }\n",
       "\n",
       "    .dataframe tbody tr th {\n",
       "        vertical-align: top;\n",
       "    }\n",
       "\n",
       "    .dataframe thead th {\n",
       "        text-align: right;\n",
       "    }\n",
       "</style>\n",
       "<table border=\"1\" class=\"dataframe\">\n",
       "  <thead>\n",
       "    <tr style=\"text-align: right;\">\n",
       "      <th></th>\n",
       "      <th>name</th>\n",
       "      <th>id</th>\n",
       "      <th>STATE</th>\n",
       "      <th>TYPE</th>\n",
       "      <th>CNTRY</th>\n",
       "      <th>geometry</th>\n",
       "      <th>county</th>\n",
       "      <th>score</th>\n",
       "    </tr>\n",
       "  </thead>\n",
       "  <tbody>\n",
       "    <tr>\n",
       "      <th>0</th>\n",
       "      <td>York</td>\n",
       "      <td>45091</td>\n",
       "      <td>SC</td>\n",
       "      <td>County</td>\n",
       "      <td>USA</td>\n",
       "      <td>POLYGON ((-80.90200 35.07200, -80.90600 35.050...</td>\n",
       "      <td>York</td>\n",
       "      <td>0</td>\n",
       "    </tr>\n",
       "    <tr>\n",
       "      <th>1</th>\n",
       "      <td>Williamsburg</td>\n",
       "      <td>45089</td>\n",
       "      <td>SC</td>\n",
       "      <td>County</td>\n",
       "      <td>USA</td>\n",
       "      <td>POLYGON ((-79.32500 33.79900, -79.31700 33.780...</td>\n",
       "      <td>Williamsburg</td>\n",
       "      <td>0</td>\n",
       "    </tr>\n",
       "    <tr>\n",
       "      <th>2</th>\n",
       "      <td>Union</td>\n",
       "      <td>45087</td>\n",
       "      <td>SC</td>\n",
       "      <td>County</td>\n",
       "      <td>USA</td>\n",
       "      <td>POLYGON ((-81.71200 34.91300, -81.69500 34.909...</td>\n",
       "      <td>Union</td>\n",
       "      <td>0</td>\n",
       "    </tr>\n",
       "    <tr>\n",
       "      <th>3</th>\n",
       "      <td>Sumter</td>\n",
       "      <td>45085</td>\n",
       "      <td>SC</td>\n",
       "      <td>County</td>\n",
       "      <td>USA</td>\n",
       "      <td>POLYGON ((-80.00100 34.04800, -79.95600 34.020...</td>\n",
       "      <td>Sumter</td>\n",
       "      <td>0</td>\n",
       "    </tr>\n",
       "    <tr>\n",
       "      <th>4</th>\n",
       "      <td>Spartanburg</td>\n",
       "      <td>45083</td>\n",
       "      <td>SC</td>\n",
       "      <td>County</td>\n",
       "      <td>USA</td>\n",
       "      <td>POLYGON ((-81.71200 34.91300, -81.74300 34.882...</td>\n",
       "      <td>Spartanburg</td>\n",
       "      <td>0</td>\n",
       "    </tr>\n",
       "  </tbody>\n",
       "</table>\n",
       "</div>"
      ]
     },
     "execution_count": 10,
     "metadata": {},
     "output_type": "execute_result"
    }
   ],
   "execution_count": 10
  },
  {
   "metadata": {
    "ExecuteTime": {
     "end_time": "2024-07-24T17:07:42.458738Z",
     "start_time": "2024-07-24T17:07:42.452571Z"
    }
   },
   "cell_type": "code",
   "source": [
    "# Prepare yearly data for each county\n",
    "yearly_data = accidents_by_county_year.reset_index()\n",
    "yearly_data = yearly_data.melt(id_vars=['cty'], var_name='year', value_name='accidents')\n",
    "yearly_data['year'] = yearly_data['year'].astype(int)\n",
    "yearly_data.head()"
   ],
   "id": "beb629f64ebc8565",
   "outputs": [
    {
     "data": {
      "text/plain": [
       "         cty  year  accidents\n",
       "0  Abbeville  2017        327\n",
       "1      Aiken  2017       4081\n",
       "2  Allendale  2017        119\n",
       "3   Anderson  2017       5391\n",
       "4    Bamberg  2017        185"
      ],
      "text/html": [
       "<div>\n",
       "<style scoped>\n",
       "    .dataframe tbody tr th:only-of-type {\n",
       "        vertical-align: middle;\n",
       "    }\n",
       "\n",
       "    .dataframe tbody tr th {\n",
       "        vertical-align: top;\n",
       "    }\n",
       "\n",
       "    .dataframe thead th {\n",
       "        text-align: right;\n",
       "    }\n",
       "</style>\n",
       "<table border=\"1\" class=\"dataframe\">\n",
       "  <thead>\n",
       "    <tr style=\"text-align: right;\">\n",
       "      <th></th>\n",
       "      <th>cty</th>\n",
       "      <th>year</th>\n",
       "      <th>accidents</th>\n",
       "    </tr>\n",
       "  </thead>\n",
       "  <tbody>\n",
       "    <tr>\n",
       "      <th>0</th>\n",
       "      <td>Abbeville</td>\n",
       "      <td>2017</td>\n",
       "      <td>327</td>\n",
       "    </tr>\n",
       "    <tr>\n",
       "      <th>1</th>\n",
       "      <td>Aiken</td>\n",
       "      <td>2017</td>\n",
       "      <td>4081</td>\n",
       "    </tr>\n",
       "    <tr>\n",
       "      <th>2</th>\n",
       "      <td>Allendale</td>\n",
       "      <td>2017</td>\n",
       "      <td>119</td>\n",
       "    </tr>\n",
       "    <tr>\n",
       "      <th>3</th>\n",
       "      <td>Anderson</td>\n",
       "      <td>2017</td>\n",
       "      <td>5391</td>\n",
       "    </tr>\n",
       "    <tr>\n",
       "      <th>4</th>\n",
       "      <td>Bamberg</td>\n",
       "      <td>2017</td>\n",
       "      <td>185</td>\n",
       "    </tr>\n",
       "  </tbody>\n",
       "</table>\n",
       "</div>"
      ]
     },
     "execution_count": 11,
     "metadata": {},
     "output_type": "execute_result"
    }
   ],
   "execution_count": 11
  },
  {
   "metadata": {
    "ExecuteTime": {
     "end_time": "2024-07-24T17:07:42.462234Z",
     "start_time": "2024-07-24T17:07:42.459498Z"
    }
   },
   "cell_type": "code",
   "source": [
    "def create_line_chart(county):\n",
    "    county_data = yearly_data[yearly_data['cty'] == county]  # Filter data for the county\n",
    "\n",
    "    # Create the line chart\n",
    "    plt.figure(figsize=(6, 4))\n",
    "    plt.plot(county_data['year'], county_data['accidents'], marker='o')\n",
    "    plt.title(f\"{county} Accidents Over Time\")\n",
    "    plt.xlabel(\"Year\")\n",
    "    plt.ylabel(\"Number of Accidents\")\n",
    "\n",
    "    # Set x-axis ticks to use integer years\n",
    "    plt.xticks(county_data['year'].unique())\n",
    "    \n",
    "    # Use integer formatting for x-axis labels\n",
    "    plt.gca().xaxis.set_major_formatter(plt.FuncFormatter(lambda x, p: f\"{int(x)}\"))\n",
    "    plt.tight_layout()    \n",
    "\n",
    "    # Save the chart to a PNG in memory\n",
    "    img = io.BytesIO()\n",
    "    plt.savefig(img, format='png')\n",
    "    img.seek(0)\n",
    "    plt.close()\n",
    "\n",
    "    return base64.b64encode(img.getvalue()).decode()  # Encode the image as a base64 string"
   ],
   "id": "ff8dc69d06136d",
   "outputs": [],
   "execution_count": 12
  },
  {
   "metadata": {
    "ExecuteTime": {
     "end_time": "2024-07-24T17:07:44.856877Z",
     "start_time": "2024-07-24T17:07:42.462819Z"
    }
   },
   "cell_type": "code",
   "source": [
    "# Create a dictionary of county: chart image\n",
    "county_charts = {county: create_line_chart(county) for county in yearly_data['cty'].unique()}"
   ],
   "id": "3f9385772b31f6b9",
   "outputs": [],
   "execution_count": 13
  },
  {
   "metadata": {
    "ExecuteTime": {
     "end_time": "2024-07-24T17:07:44.862716Z",
     "start_time": "2024-07-24T17:07:44.859359Z"
    }
   },
   "cell_type": "code",
   "source": [
    "# Create the map\n",
    "m = folium.Map(location=[33.8361, -81.1637], zoom_start=7)"
   ],
   "id": "91268841434358c0",
   "outputs": [],
   "execution_count": 14
  },
  {
   "metadata": {
    "ExecuteTime": {
     "end_time": "2024-07-24T17:07:44.866952Z",
     "start_time": "2024-07-24T17:07:44.864204Z"
    }
   },
   "cell_type": "code",
   "source": [
    "# Create a colormap\n",
    "colormap = cm.LinearColormap(colors=['red', 'yellow', 'green'], vmin=merged_data['score'].min(),\n",
    "                             vmax=merged_data['score'].max())"
   ],
   "id": "e8d45903fd02be38",
   "outputs": [],
   "execution_count": 15
  },
  {
   "metadata": {
    "ExecuteTime": {
     "end_time": "2024-07-24T17:07:44.884875Z",
     "start_time": "2024-07-24T17:07:44.867897Z"
    }
   },
   "cell_type": "code",
   "source": [
    "# Add the choropleth layer\n",
    "folium.Choropleth(\n",
    "    geo_data=merged_data,\n",
    "    name='choropleth',\n",
    "    data=merged_data,\n",
    "    columns=['county', 'score'],\n",
    "    key_on='feature.properties.county',\n",
    "    fill_color='YlOrRd',\n",
    "    fill_opacity=0.7,\n",
    "    line_opacity=0.2,\n",
    "    legend_name='Cumulative Score'\n",
    ").add_to(m)"
   ],
   "id": "f5f7e259da4778b2",
   "outputs": [
    {
     "data": {
      "text/plain": [
       "<folium.features.Choropleth at 0x32000bb90>"
      ]
     },
     "execution_count": 16,
     "metadata": {},
     "output_type": "execute_result"
    }
   ],
   "execution_count": 16
  },
  {
   "metadata": {
    "ExecuteTime": {
     "end_time": "2024-07-24T17:07:44.911429Z",
     "start_time": "2024-07-24T17:07:44.886014Z"
    }
   },
   "cell_type": "code",
   "source": [
    "# Add markers with popups\n",
    "for idx, row in merged_data.iterrows():\n",
    "    popup_content = f\"\"\"\n",
    "    <h4>{row['county']} County</h4>\n",
    "    <p>Cumulative Score: {row['score']}</p>\n",
    "    <img src=\"data:image/png;base64,{county_charts[row['county']]}\" width=\"300\" height=\"200\">\n",
    "    \"\"\"\n",
    "\n",
    "    folium.Marker(\n",
    "        location=[row.geometry.centroid.y, row.geometry.centroid.x],\n",
    "        popup=folium.Popup(popup_content, max_width=350),\n",
    "        icon=folium.Icon(color='blue', icon='info-sign')\n",
    "    ).add_to(m)"
   ],
   "id": "7fba2355c5a539dc",
   "outputs": [],
   "execution_count": 17
  },
  {
   "metadata": {
    "ExecuteTime": {
     "end_time": "2024-07-24T17:07:45.056288Z",
     "start_time": "2024-07-24T17:07:44.912529Z"
    }
   },
   "cell_type": "code",
   "source": [
    "# Save the map\n",
    "m.save(\"../maps/choropleth_with_popups.html\")"
   ],
   "id": "55ef5dc5b2939aac",
   "outputs": [],
   "execution_count": 18
  }
 ],
 "metadata": {
  "kernelspec": {
   "display_name": "Python 3",
   "language": "python",
   "name": "python3"
  },
  "language_info": {
   "codemirror_mode": {
    "name": "ipython",
    "version": 2
   },
   "file_extension": ".py",
   "mimetype": "text/x-python",
   "name": "python",
   "nbconvert_exporter": "python",
   "pygments_lexer": "ipython2",
   "version": "2.7.6"
  }
 },
 "nbformat": 4,
 "nbformat_minor": 5
}
