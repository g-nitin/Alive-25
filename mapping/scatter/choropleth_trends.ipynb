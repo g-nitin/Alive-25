{
 "cells": [
  {
   "metadata": {},
   "cell_type": "markdown",
   "source": [
    "# Changes in Traffic Accidents by County Over Time\n",
    "<br>This code analyzes traffic accident data across counties over time.\n",
    "<br>It processes CSVs, calculates year-over-year changes in accidents, and computes a cumulative score for each county.\n",
    "<br>The results are visualized in an interactive choropleth map, color-coding counties based on their accident trend scores and displaying county names and scores on hover."
   ],
   "id": "b91a65524eeedfbb"
  },
  {
   "metadata": {
    "ExecuteTime": {
     "end_time": "2024-07-24T21:23:28.132021Z",
     "start_time": "2024-07-24T21:23:27.275985Z"
    }
   },
   "cell_type": "code",
   "source": [
    "import pandas as pd\n",
    "import geopandas as gpd\n",
    "import plotly.express as px\n",
    "from scatter import check_cols"
   ],
   "id": "41bb6353081bfaa5",
   "outputs": [],
   "execution_count": 1
  },
  {
   "metadata": {
    "ExecuteTime": {
     "end_time": "2024-07-24T21:23:31.435330Z",
     "start_time": "2024-07-24T21:23:28.132595Z"
    }
   },
   "cell_type": "code",
   "source": [
    "# Read data files\n",
    "df = []\n",
    "for year in range(2017, 2022):\n",
    "    data = pd.read_csv(f'../../sc_data/sc_loc{year}.csv', low_memory=False)\n",
    "    data['year'] = year\n",
    "\n",
    "    # Check if the columns are consistent\n",
    "    _, data = check_cols('lat', 'lon', data, \"\")\n",
    "\n",
    "    df.append(data)\n",
    "\n",
    "# Combine the dataframes\n",
    "df = pd.concat(df, ignore_index=True)\n",
    "print(f\"Length of the dataset: {len(df):,}\")"
   ],
   "id": "248f520e4b99bea8",
   "outputs": [
    {
     "name": "stdout",
     "output_type": "stream",
     "text": [
      "Length of the dataset: 694,335\n"
     ]
    }
   ],
   "execution_count": 2
  },
  {
   "metadata": {
    "ExecuteTime": {
     "end_time": "2024-07-24T21:23:31.445728Z",
     "start_time": "2024-07-24T21:23:31.436990Z"
    }
   },
   "cell_type": "code",
   "source": [
    "# Convert year to datetime if it's not already\n",
    "df['year'].value_counts()"
   ],
   "id": "3701450b0ad60d9",
   "outputs": [
    {
     "data": {
      "text/plain": [
       "year\n",
       "2021    147724\n",
       "2018    142406\n",
       "2017    141874\n",
       "2019    141096\n",
       "2020    121235\n",
       "Name: count, dtype: int64"
      ]
     },
     "execution_count": 3,
     "metadata": {},
     "output_type": "execute_result"
    }
   ],
   "execution_count": 3
  },
  {
   "metadata": {
    "ExecuteTime": {
     "end_time": "2024-07-24T21:23:32.086947Z",
     "start_time": "2024-07-24T21:23:31.446452Z"
    }
   },
   "cell_type": "code",
   "source": [
    "# Replace the numerical representation with county names\n",
    "county_dict = {\n",
    "    1: 'Abbeville', 2: 'Aiken', 3: 'Allendale', 4: 'Anderson', 5: 'Bamberg',\n",
    "    6: 'Barnwell', 7: 'Beaufort', 8: 'Berkeley', 9: 'Calhoun', 10: 'Charleston',\n",
    "    11: 'Cherokee', 12: 'Chester', 13: 'Chesterfield', 14: 'Clarendon', 15: 'Colleton',\n",
    "    16: 'Darlington', 17: 'Dillon', 18: 'Dorchester', 19: 'Edgefield', 20: 'Fairfield',\n",
    "    21: 'Florence', 22: 'Georgetown', 23: 'Greenville', 24: 'Greenwood', 25: 'Hampton',\n",
    "    26: 'Horry', 27: 'Jasper', 28: 'Kershaw', 29: 'Lancaster', 30: 'Laurens',\n",
    "    31: 'Lee', 32: 'Lexington', 33: 'McCormick', 34: 'Marion', 35: 'Marlboro',\n",
    "    36: 'Newberry', 37: 'Oconee', 38: 'Orangeburg', 39: 'Pickens', 40: 'Richland',\n",
    "    41: 'Saluda', 42: 'Spartanburg', 43: 'Sumter', 44: 'Union', 45: 'Williamsburg',\n",
    "    46: 'York'\n",
    "}\n",
    "df['cty'] = df['cty'].replace(county_dict)"
   ],
   "id": "c5fec36b200f337b",
   "outputs": [],
   "execution_count": 4
  },
  {
   "metadata": {
    "ExecuteTime": {
     "end_time": "2024-07-24T21:23:32.142012Z",
     "start_time": "2024-07-24T21:23:32.088579Z"
    }
   },
   "cell_type": "code",
   "source": [
    "# Group by county and year, count accidents\n",
    "accidents_by_county_year = df.groupby(['cty', 'year']).size().unstack(fill_value=0)\n",
    "accidents_by_county_year.head()"
   ],
   "id": "94e2e118b579ccfa",
   "outputs": [
    {
     "data": {
      "text/plain": [
       "year       2017  2018  2019  2020  2021\n",
       "cty                                    \n",
       "Abbeville   327   346   287   299   355\n",
       "Aiken      4081  3907  4081  3544  4406\n",
       "Allendale   119   119   113   105   127\n",
       "Anderson   5391  5428  5094  4704  5930\n",
       "Bamberg     185   177   205   194   211"
      ],
      "text/html": [
       "<div>\n",
       "<style scoped>\n",
       "    .dataframe tbody tr th:only-of-type {\n",
       "        vertical-align: middle;\n",
       "    }\n",
       "\n",
       "    .dataframe tbody tr th {\n",
       "        vertical-align: top;\n",
       "    }\n",
       "\n",
       "    .dataframe thead th {\n",
       "        text-align: right;\n",
       "    }\n",
       "</style>\n",
       "<table border=\"1\" class=\"dataframe\">\n",
       "  <thead>\n",
       "    <tr style=\"text-align: right;\">\n",
       "      <th>year</th>\n",
       "      <th>2017</th>\n",
       "      <th>2018</th>\n",
       "      <th>2019</th>\n",
       "      <th>2020</th>\n",
       "      <th>2021</th>\n",
       "    </tr>\n",
       "    <tr>\n",
       "      <th>cty</th>\n",
       "      <th></th>\n",
       "      <th></th>\n",
       "      <th></th>\n",
       "      <th></th>\n",
       "      <th></th>\n",
       "    </tr>\n",
       "  </thead>\n",
       "  <tbody>\n",
       "    <tr>\n",
       "      <th>Abbeville</th>\n",
       "      <td>327</td>\n",
       "      <td>346</td>\n",
       "      <td>287</td>\n",
       "      <td>299</td>\n",
       "      <td>355</td>\n",
       "    </tr>\n",
       "    <tr>\n",
       "      <th>Aiken</th>\n",
       "      <td>4081</td>\n",
       "      <td>3907</td>\n",
       "      <td>4081</td>\n",
       "      <td>3544</td>\n",
       "      <td>4406</td>\n",
       "    </tr>\n",
       "    <tr>\n",
       "      <th>Allendale</th>\n",
       "      <td>119</td>\n",
       "      <td>119</td>\n",
       "      <td>113</td>\n",
       "      <td>105</td>\n",
       "      <td>127</td>\n",
       "    </tr>\n",
       "    <tr>\n",
       "      <th>Anderson</th>\n",
       "      <td>5391</td>\n",
       "      <td>5428</td>\n",
       "      <td>5094</td>\n",
       "      <td>4704</td>\n",
       "      <td>5930</td>\n",
       "    </tr>\n",
       "    <tr>\n",
       "      <th>Bamberg</th>\n",
       "      <td>185</td>\n",
       "      <td>177</td>\n",
       "      <td>205</td>\n",
       "      <td>194</td>\n",
       "      <td>211</td>\n",
       "    </tr>\n",
       "  </tbody>\n",
       "</table>\n",
       "</div>"
      ]
     },
     "execution_count": 5,
     "metadata": {},
     "output_type": "execute_result"
    }
   ],
   "execution_count": 5
  },
  {
   "metadata": {
    "ExecuteTime": {
     "end_time": "2024-07-24T21:23:32.148803Z",
     "start_time": "2024-07-24T21:23:32.142812Z"
    }
   },
   "cell_type": "code",
   "source": [
    "# Calculate year-over-year change\n",
    "yoy_change = accidents_by_county_year.diff(axis=1)\n",
    "yoy_change.head()"
   ],
   "id": "ddc50e32715b4603",
   "outputs": [
    {
     "data": {
      "text/plain": [
       "year       2017  2018  2019  2020  2021\n",
       "cty                                    \n",
       "Abbeville   NaN    19   -59    12    56\n",
       "Aiken       NaN  -174   174  -537   862\n",
       "Allendale   NaN     0    -6    -8    22\n",
       "Anderson    NaN    37  -334  -390  1226\n",
       "Bamberg     NaN    -8    28   -11    17"
      ],
      "text/html": [
       "<div>\n",
       "<style scoped>\n",
       "    .dataframe tbody tr th:only-of-type {\n",
       "        vertical-align: middle;\n",
       "    }\n",
       "\n",
       "    .dataframe tbody tr th {\n",
       "        vertical-align: top;\n",
       "    }\n",
       "\n",
       "    .dataframe thead th {\n",
       "        text-align: right;\n",
       "    }\n",
       "</style>\n",
       "<table border=\"1\" class=\"dataframe\">\n",
       "  <thead>\n",
       "    <tr style=\"text-align: right;\">\n",
       "      <th>year</th>\n",
       "      <th>2017</th>\n",
       "      <th>2018</th>\n",
       "      <th>2019</th>\n",
       "      <th>2020</th>\n",
       "      <th>2021</th>\n",
       "    </tr>\n",
       "    <tr>\n",
       "      <th>cty</th>\n",
       "      <th></th>\n",
       "      <th></th>\n",
       "      <th></th>\n",
       "      <th></th>\n",
       "      <th></th>\n",
       "    </tr>\n",
       "  </thead>\n",
       "  <tbody>\n",
       "    <tr>\n",
       "      <th>Abbeville</th>\n",
       "      <td>NaN</td>\n",
       "      <td>19</td>\n",
       "      <td>-59</td>\n",
       "      <td>12</td>\n",
       "      <td>56</td>\n",
       "    </tr>\n",
       "    <tr>\n",
       "      <th>Aiken</th>\n",
       "      <td>NaN</td>\n",
       "      <td>-174</td>\n",
       "      <td>174</td>\n",
       "      <td>-537</td>\n",
       "      <td>862</td>\n",
       "    </tr>\n",
       "    <tr>\n",
       "      <th>Allendale</th>\n",
       "      <td>NaN</td>\n",
       "      <td>0</td>\n",
       "      <td>-6</td>\n",
       "      <td>-8</td>\n",
       "      <td>22</td>\n",
       "    </tr>\n",
       "    <tr>\n",
       "      <th>Anderson</th>\n",
       "      <td>NaN</td>\n",
       "      <td>37</td>\n",
       "      <td>-334</td>\n",
       "      <td>-390</td>\n",
       "      <td>1226</td>\n",
       "    </tr>\n",
       "    <tr>\n",
       "      <th>Bamberg</th>\n",
       "      <td>NaN</td>\n",
       "      <td>-8</td>\n",
       "      <td>28</td>\n",
       "      <td>-11</td>\n",
       "      <td>17</td>\n",
       "    </tr>\n",
       "  </tbody>\n",
       "</table>\n",
       "</div>"
      ]
     },
     "execution_count": 6,
     "metadata": {},
     "output_type": "execute_result"
    }
   ],
   "execution_count": 6
  },
  {
   "metadata": {
    "ExecuteTime": {
     "end_time": "2024-07-24T21:23:32.156145Z",
     "start_time": "2024-07-24T21:23:32.149919Z"
    }
   },
   "cell_type": "code",
   "source": [
    "# Compute cumulative score\n",
    "cumulative_score = yoy_change.apply(lambda x: (x > 0).astype(int) - (x < 0).astype(int)).cumsum(axis=1)\n",
    "cumulative_score.head()"
   ],
   "id": "8023f53e9a44a98e",
   "outputs": [
    {
     "data": {
      "text/plain": [
       "year       2017  2018  2019  2020  2021\n",
       "cty                                    \n",
       "Abbeville     0     1     0     1     2\n",
       "Aiken         0    -1     0    -1     0\n",
       "Allendale     0     0    -1    -2    -1\n",
       "Anderson      0     1     0    -1     0\n",
       "Bamberg       0    -1     0    -1     0"
      ],
      "text/html": [
       "<div>\n",
       "<style scoped>\n",
       "    .dataframe tbody tr th:only-of-type {\n",
       "        vertical-align: middle;\n",
       "    }\n",
       "\n",
       "    .dataframe tbody tr th {\n",
       "        vertical-align: top;\n",
       "    }\n",
       "\n",
       "    .dataframe thead th {\n",
       "        text-align: right;\n",
       "    }\n",
       "</style>\n",
       "<table border=\"1\" class=\"dataframe\">\n",
       "  <thead>\n",
       "    <tr style=\"text-align: right;\">\n",
       "      <th>year</th>\n",
       "      <th>2017</th>\n",
       "      <th>2018</th>\n",
       "      <th>2019</th>\n",
       "      <th>2020</th>\n",
       "      <th>2021</th>\n",
       "    </tr>\n",
       "    <tr>\n",
       "      <th>cty</th>\n",
       "      <th></th>\n",
       "      <th></th>\n",
       "      <th></th>\n",
       "      <th></th>\n",
       "      <th></th>\n",
       "    </tr>\n",
       "  </thead>\n",
       "  <tbody>\n",
       "    <tr>\n",
       "      <th>Abbeville</th>\n",
       "      <td>0</td>\n",
       "      <td>1</td>\n",
       "      <td>0</td>\n",
       "      <td>1</td>\n",
       "      <td>2</td>\n",
       "    </tr>\n",
       "    <tr>\n",
       "      <th>Aiken</th>\n",
       "      <td>0</td>\n",
       "      <td>-1</td>\n",
       "      <td>0</td>\n",
       "      <td>-1</td>\n",
       "      <td>0</td>\n",
       "    </tr>\n",
       "    <tr>\n",
       "      <th>Allendale</th>\n",
       "      <td>0</td>\n",
       "      <td>0</td>\n",
       "      <td>-1</td>\n",
       "      <td>-2</td>\n",
       "      <td>-1</td>\n",
       "    </tr>\n",
       "    <tr>\n",
       "      <th>Anderson</th>\n",
       "      <td>0</td>\n",
       "      <td>1</td>\n",
       "      <td>0</td>\n",
       "      <td>-1</td>\n",
       "      <td>0</td>\n",
       "    </tr>\n",
       "    <tr>\n",
       "      <th>Bamberg</th>\n",
       "      <td>0</td>\n",
       "      <td>-1</td>\n",
       "      <td>0</td>\n",
       "      <td>-1</td>\n",
       "      <td>0</td>\n",
       "    </tr>\n",
       "  </tbody>\n",
       "</table>\n",
       "</div>"
      ]
     },
     "execution_count": 7,
     "metadata": {},
     "output_type": "execute_result"
    }
   ],
   "execution_count": 7
  },
  {
   "metadata": {
    "ExecuteTime": {
     "end_time": "2024-07-24T21:23:32.160312Z",
     "start_time": "2024-07-24T21:23:32.157085Z"
    }
   },
   "cell_type": "code",
   "source": [
    "# Get the final score (last column of cumulative_score)\n",
    "final_score = cumulative_score.iloc[:, -1]\n",
    "final_score.head()"
   ],
   "id": "926029baa8a8594f",
   "outputs": [
    {
     "data": {
      "text/plain": [
       "cty\n",
       "Abbeville    2\n",
       "Aiken        0\n",
       "Allendale   -1\n",
       "Anderson     0\n",
       "Bamberg      0\n",
       "Name: 2021, dtype: int64"
      ]
     },
     "execution_count": 8,
     "metadata": {},
     "output_type": "execute_result"
    }
   ],
   "execution_count": 8
  },
  {
   "metadata": {
    "ExecuteTime": {
     "end_time": "2024-07-24T21:23:32.165671Z",
     "start_time": "2024-07-24T21:23:32.160917Z"
    }
   },
   "cell_type": "code",
   "source": [
    "# Create a DataFrame with county, final score, and the \n",
    "final_df = pd.DataFrame({\n",
    "    'county': final_score.index,\n",
    "    'score': final_score.values,\n",
    "}).reset_index(drop=True)\n",
    "\n",
    "final_df.head()"
   ],
   "id": "f2e1c3b81f2b60f8",
   "outputs": [
    {
     "data": {
      "text/plain": [
       "      county  score\n",
       "0  Abbeville      2\n",
       "1      Aiken      0\n",
       "2  Allendale     -1\n",
       "3   Anderson      0\n",
       "4    Bamberg      0"
      ],
      "text/html": [
       "<div>\n",
       "<style scoped>\n",
       "    .dataframe tbody tr th:only-of-type {\n",
       "        vertical-align: middle;\n",
       "    }\n",
       "\n",
       "    .dataframe tbody tr th {\n",
       "        vertical-align: top;\n",
       "    }\n",
       "\n",
       "    .dataframe thead th {\n",
       "        text-align: right;\n",
       "    }\n",
       "</style>\n",
       "<table border=\"1\" class=\"dataframe\">\n",
       "  <thead>\n",
       "    <tr style=\"text-align: right;\">\n",
       "      <th></th>\n",
       "      <th>county</th>\n",
       "      <th>score</th>\n",
       "    </tr>\n",
       "  </thead>\n",
       "  <tbody>\n",
       "    <tr>\n",
       "      <th>0</th>\n",
       "      <td>Abbeville</td>\n",
       "      <td>2</td>\n",
       "    </tr>\n",
       "    <tr>\n",
       "      <th>1</th>\n",
       "      <td>Aiken</td>\n",
       "      <td>0</td>\n",
       "    </tr>\n",
       "    <tr>\n",
       "      <th>2</th>\n",
       "      <td>Allendale</td>\n",
       "      <td>-1</td>\n",
       "    </tr>\n",
       "    <tr>\n",
       "      <th>3</th>\n",
       "      <td>Anderson</td>\n",
       "      <td>0</td>\n",
       "    </tr>\n",
       "    <tr>\n",
       "      <th>4</th>\n",
       "      <td>Bamberg</td>\n",
       "      <td>0</td>\n",
       "    </tr>\n",
       "  </tbody>\n",
       "</table>\n",
       "</div>"
      ]
     },
     "execution_count": 9,
     "metadata": {},
     "output_type": "execute_result"
    }
   ],
   "execution_count": 9
  },
  {
   "metadata": {
    "ExecuteTime": {
     "end_time": "2024-07-24T21:23:32.417554Z",
     "start_time": "2024-07-24T21:23:32.166250Z"
    }
   },
   "cell_type": "code",
   "source": [
    "# Load county boundaries\n",
    "counties_gdf = gpd.read_file('South Carolina County Boundaries.geojson')"
   ],
   "id": "79df5d6f18f3e28a",
   "outputs": [],
   "execution_count": 10
  },
  {
   "metadata": {
    "ExecuteTime": {
     "end_time": "2024-07-24T21:23:32.427349Z",
     "start_time": "2024-07-24T21:23:32.418374Z"
    }
   },
   "cell_type": "code",
   "source": [
    "# Merge accident data with geospatial data\n",
    "merged_data = counties_gdf.merge(final_df, left_on='name', right_on='county')\n",
    "merged_data.head()"
   ],
   "id": "a45202400b08f438",
   "outputs": [
    {
     "data": {
      "text/plain": [
       "           name     id STATE    TYPE CNTRY  \\\n",
       "0          York  45091    SC  County   USA   \n",
       "1  Williamsburg  45089    SC  County   USA   \n",
       "2         Union  45087    SC  County   USA   \n",
       "3        Sumter  45085    SC  County   USA   \n",
       "4   Spartanburg  45083    SC  County   USA   \n",
       "\n",
       "                                            geometry        county  score  \n",
       "0  POLYGON ((-80.90200 35.07200, -80.90600 35.050...          York      0  \n",
       "1  POLYGON ((-79.32500 33.79900, -79.31700 33.780...  Williamsburg      0  \n",
       "2  POLYGON ((-81.71200 34.91300, -81.69500 34.909...         Union      0  \n",
       "3  POLYGON ((-80.00100 34.04800, -79.95600 34.020...        Sumter      0  \n",
       "4  POLYGON ((-81.71200 34.91300, -81.74300 34.882...   Spartanburg      0  "
      ],
      "text/html": [
       "<div>\n",
       "<style scoped>\n",
       "    .dataframe tbody tr th:only-of-type {\n",
       "        vertical-align: middle;\n",
       "    }\n",
       "\n",
       "    .dataframe tbody tr th {\n",
       "        vertical-align: top;\n",
       "    }\n",
       "\n",
       "    .dataframe thead th {\n",
       "        text-align: right;\n",
       "    }\n",
       "</style>\n",
       "<table border=\"1\" class=\"dataframe\">\n",
       "  <thead>\n",
       "    <tr style=\"text-align: right;\">\n",
       "      <th></th>\n",
       "      <th>name</th>\n",
       "      <th>id</th>\n",
       "      <th>STATE</th>\n",
       "      <th>TYPE</th>\n",
       "      <th>CNTRY</th>\n",
       "      <th>geometry</th>\n",
       "      <th>county</th>\n",
       "      <th>score</th>\n",
       "    </tr>\n",
       "  </thead>\n",
       "  <tbody>\n",
       "    <tr>\n",
       "      <th>0</th>\n",
       "      <td>York</td>\n",
       "      <td>45091</td>\n",
       "      <td>SC</td>\n",
       "      <td>County</td>\n",
       "      <td>USA</td>\n",
       "      <td>POLYGON ((-80.90200 35.07200, -80.90600 35.050...</td>\n",
       "      <td>York</td>\n",
       "      <td>0</td>\n",
       "    </tr>\n",
       "    <tr>\n",
       "      <th>1</th>\n",
       "      <td>Williamsburg</td>\n",
       "      <td>45089</td>\n",
       "      <td>SC</td>\n",
       "      <td>County</td>\n",
       "      <td>USA</td>\n",
       "      <td>POLYGON ((-79.32500 33.79900, -79.31700 33.780...</td>\n",
       "      <td>Williamsburg</td>\n",
       "      <td>0</td>\n",
       "    </tr>\n",
       "    <tr>\n",
       "      <th>2</th>\n",
       "      <td>Union</td>\n",
       "      <td>45087</td>\n",
       "      <td>SC</td>\n",
       "      <td>County</td>\n",
       "      <td>USA</td>\n",
       "      <td>POLYGON ((-81.71200 34.91300, -81.69500 34.909...</td>\n",
       "      <td>Union</td>\n",
       "      <td>0</td>\n",
       "    </tr>\n",
       "    <tr>\n",
       "      <th>3</th>\n",
       "      <td>Sumter</td>\n",
       "      <td>45085</td>\n",
       "      <td>SC</td>\n",
       "      <td>County</td>\n",
       "      <td>USA</td>\n",
       "      <td>POLYGON ((-80.00100 34.04800, -79.95600 34.020...</td>\n",
       "      <td>Sumter</td>\n",
       "      <td>0</td>\n",
       "    </tr>\n",
       "    <tr>\n",
       "      <th>4</th>\n",
       "      <td>Spartanburg</td>\n",
       "      <td>45083</td>\n",
       "      <td>SC</td>\n",
       "      <td>County</td>\n",
       "      <td>USA</td>\n",
       "      <td>POLYGON ((-81.71200 34.91300, -81.74300 34.882...</td>\n",
       "      <td>Spartanburg</td>\n",
       "      <td>0</td>\n",
       "    </tr>\n",
       "  </tbody>\n",
       "</table>\n",
       "</div>"
      ]
     },
     "execution_count": 11,
     "metadata": {},
     "output_type": "execute_result"
    }
   ],
   "execution_count": 11
  },
  {
   "metadata": {
    "ExecuteTime": {
     "end_time": "2024-07-24T21:26:47.366930Z",
     "start_time": "2024-07-24T21:26:47.278288Z"
    }
   },
   "cell_type": "code",
   "source": [
    "# Create the choropleth map\n",
    "fig = px.choropleth_mapbox(\n",
    "    merged_data,\n",
    "    geojson=merged_data.geometry,\n",
    "    locations=merged_data.index,\n",
    "    color='score',\n",
    "    color_continuous_scale=\"RdYlGn_r\",  # Red for negative, Yellow for neutral, Green for positive\n",
    "    mapbox_style=\"carto-positron\",\n",
    "    zoom=6,  # Adjust this value to fit your region\n",
    "    center={\"lat\": 33.8361, \"lon\": -81.1637},\n",
    "    opacity=0.5,\n",
    "    labels={'score': 'Cumulative Score', 'county': 'County'},\n",
    "    hover_data={'county': True, 'score': True},\n",
    "    title='County-Level Traffic Accident Trends: Cumulative Change Over Time'\n",
    ")\n",
    "\n",
    "# In the hovertemplate, we use %{customdata[0]} to display the county name. This works because county_name is the first (index 0) column in our hover_data.\n",
    "fig.update_traces(\n",
    "    hovertemplate=\"<b>County:</b> %{customdata[0]}<br><b>Cumulative Score:</b> %{z}<extra></extra>\"\n",
    ")\n",
    "\n",
    "fig.update_layout(margin={\"r\":0,\"t\":0,\"l\":0,\"b\":0});"
   ],
   "id": "bdfde1d6724ab8d2",
   "outputs": [],
   "execution_count": 14
  },
  {
   "metadata": {
    "ExecuteTime": {
     "end_time": "2024-07-24T21:26:48.436550Z",
     "start_time": "2024-07-24T21:26:48.405612Z"
    }
   },
   "cell_type": "code",
   "source": [
    "# Show the figure\n",
    "fig.write_html(\"../maps/choropleth_trends.html\")"
   ],
   "id": "48e0e30b1cf214f",
   "outputs": [],
   "execution_count": 15
  },
  {
   "metadata": {},
   "cell_type": "code",
   "outputs": [],
   "execution_count": null,
   "source": "",
   "id": "6ecc7c28acad25ad"
  }
 ],
 "metadata": {
  "kernelspec": {
   "display_name": "Python 3",
   "language": "python",
   "name": "python3"
  },
  "language_info": {
   "codemirror_mode": {
    "name": "ipython",
    "version": 2
   },
   "file_extension": ".py",
   "mimetype": "text/x-python",
   "name": "python",
   "nbconvert_exporter": "python",
   "pygments_lexer": "ipython2",
   "version": "2.7.6"
  }
 },
 "nbformat": 4,
 "nbformat_minor": 5
}
