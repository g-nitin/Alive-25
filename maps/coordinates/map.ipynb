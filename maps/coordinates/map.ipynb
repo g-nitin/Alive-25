{
 "cells": [
  {
   "cell_type": "code",
   "id": "initial_id",
   "metadata": {
    "collapsed": true,
    "ExecuteTime": {
     "end_time": "2024-07-01T02:37:43.644856Z",
     "start_time": "2024-07-01T02:37:43.383811Z"
    }
   },
   "source": [
    "import pandas as pd\n",
    "import folium as fm\n",
    "from folium.plugins import MarkerCluster\n",
    "from random import sample"
   ],
   "outputs": [],
   "execution_count": 1
  },
  {
   "metadata": {
    "ExecuteTime": {
     "end_time": "2024-07-01T02:37:43.647303Z",
     "start_time": "2024-07-01T02:37:43.645517Z"
    }
   },
   "cell_type": "code",
   "source": [
    "# The columns in the data are:\n",
    "    # 'ano' is the accident number\n",
    "    # 'tway' stands for \"Trafficway\"\n",
    "    # `day` is the day of the week\n",
    "    # 'lat' is the latitude\n",
    "    # 'lon' is the longitude\n",
    "\n",
    "# Make an interactive map using Folium"
   ],
   "id": "8f965596b379c93b",
   "outputs": [],
   "execution_count": 2
  },
  {
   "metadata": {
    "ExecuteTime": {
     "end_time": "2024-07-01T02:37:44.029244Z",
     "start_time": "2024-07-01T02:37:43.649459Z"
    }
   },
   "cell_type": "code",
   "source": [
    "# Load the data\n",
    "df = pd.read_csv('../usc_data/sc_loc2018.csv')\n",
    "print(f\"Initial length of the data: {df.shape[0]}\")\n",
    "\n",
    "df = df.sample(frac=.5)\n",
    "print(f\"New length of the data: {df.shape[0]}\")"
   ],
   "id": "cc77ec6291925e45",
   "outputs": [
    {
     "name": "stdout",
     "output_type": "stream",
     "text": [
      "Initial length of the data: 142406\n",
      "New length of the data: 71203\n"
     ]
    }
   ],
   "execution_count": 3
  },
  {
   "metadata": {
    "ExecuteTime": {
     "end_time": "2024-07-01T02:37:44.048157Z",
     "start_time": "2024-07-01T02:37:44.029990Z"
    }
   },
   "cell_type": "code",
   "source": [
    "# Convert lat and lon to correct decimal degrees\n",
    "df['lat'] = df['lat'] / 1_000_000\n",
    "df['lon'] = - (df['lon'] / 1000000)  # Note the negative sign for longitude\n",
    "\n",
    "# Remove rows with invalid lat/lon\n",
    "df = df.dropna(subset=['lat', 'lon'])\n",
    "print(f\"Length of the data after removing rows with invalid lat/lon: {df.shape[0]}\")"
   ],
   "id": "7b10880c2f57c9b4",
   "outputs": [
    {
     "name": "stdout",
     "output_type": "stream",
     "text": [
      "Length of the data after removing rows with invalid lat/lon: 71203\n"
     ]
    }
   ],
   "execution_count": 4
  },
  {
   "metadata": {
    "ExecuteTime": {
     "end_time": "2024-07-01T02:37:44.052648Z",
     "start_time": "2024-07-01T02:37:44.049198Z"
    }
   },
   "cell_type": "code",
   "source": [
    "# Create a map centered on South Carolina\n",
    "sc_center_lat, sc_center_lon = 33.8361, -81.1637  # Approximate center of SC\n",
    "m = fm.Map(location=[sc_center_lat, sc_center_lon], zoom_start=7)\n",
    "\n",
    "# Create a MarkerCluster\n",
    "marker_cluster = MarkerCluster().add_to(m)"
   ],
   "id": "ee4874cdb765f038",
   "outputs": [],
   "execution_count": 5
  },
  {
   "metadata": {
    "ExecuteTime": {
     "end_time": "2024-07-01T02:37:44.056012Z",
     "start_time": "2024-07-01T02:37:44.053582Z"
    }
   },
   "cell_type": "code",
   "source": [
    "# The `tway` column has this meaning:\n",
    "# 1. Two-way, not divided\n",
    "# 2. Two-way, divided, unprotected median\n",
    "# 3. Two-way, divided, barrier\n",
    "# 4. One way\n",
    "# 8. Other\n",
    "# Create mapping for the `tway` column:\n",
    "tway_map = {1: 'Two-way, not divided',\n",
    "            2: 'Two-way, divided, unprotected median',\n",
    "            3: 'Two-way, divided, barrier',\n",
    "            4: 'One way',\n",
    "            8: 'Other'}\n",
    "\n",
    "# The `day` column has this meaning:\n",
    "# 1. Sunday\n",
    "# 2. Monday and so on...\n",
    "# Create mapping for the `day` column:\n",
    "day_map = {1: 'Sunday',\n",
    "           2: 'Monday',\n",
    "           3: 'Tuesday',\n",
    "           4: 'Wednesday',\n",
    "           5: 'Thursday',\n",
    "           6: 'Friday',\n",
    "           7: 'Saturday'}"
   ],
   "id": "875448db0300bc03",
   "outputs": [],
   "execution_count": 6
  },
  {
   "metadata": {
    "ExecuteTime": {
     "end_time": "2024-07-01T02:37:44.061535Z",
     "start_time": "2024-07-01T02:37:44.056632Z"
    }
   },
   "cell_type": "code",
   "source": [
    "possible_colors = ['blue', 'darkgreen', 'cadetblue', 'lightred', \n",
    "                   'beige', 'pink', 'green', 'darkred', 'lightgreen', \n",
    "                   'lightblue', 'darkblue', 'darkpurple', 'gray', \n",
    "                   'purple', 'orange', 'lightgray', 'red', 'black']  # Not including white\n",
    "\n",
    "# Define color mapping for 'tway'\n",
    "color_map = {num: col for num, col in zip(df['tway'].unique(), sample(possible_colors, len(df['tway'].unique())))}\n",
    "color_map"
   ],
   "id": "e51395ebfbe3c9c1",
   "outputs": [
    {
     "data": {
      "text/plain": [
       "{3: 'beige', 1: 'lightgreen', 2: 'lightred', 4: 'red', 8: 'black'}"
      ]
     },
     "execution_count": 7,
     "metadata": {},
     "output_type": "execute_result"
    }
   ],
   "execution_count": 7
  },
  {
   "metadata": {
    "ExecuteTime": {
     "end_time": "2024-07-01T02:37:49.026862Z",
     "start_time": "2024-07-01T02:37:44.062479Z"
    }
   },
   "cell_type": "code",
   "source": [
    "# Add markers to the cluster\n",
    "for idx, row in df.iterrows():    \n",
    "    fm.Marker(\n",
    "        popup = fm.Popup(f\"\"\"\n",
    "        <b>Accident Number:</b> {row['ano']}<br>\n",
    "        <b>Latitude:</b> {row['lat']}<br>\n",
    "        <b>Longitude:</b> {row['lon']}<br>\n",
    "        <b>Trafficway:</b> {tway_map.get(row['tway'], 'Other')}<br>\n",
    "        <b>Day:</b> {day_map.get(row['day'], 'Unknown')}<br>\n",
    "        \"\"\", max_width=\"100%\"),\n",
    "        location=[row['lat'], row['lon']],\n",
    "        icon=fm.Icon(color=color_map.get(row['tway'], 'gray')),\n",
    "        lazy=True\n",
    "    ).add_to(marker_cluster)"
   ],
   "id": "520aa4e1d00d3ad2",
   "outputs": [],
   "execution_count": 8
  },
  {
   "metadata": {
    "ExecuteTime": {
     "end_time": "2024-07-01T02:37:49.031589Z",
     "start_time": "2024-07-01T02:37:49.028933Z"
    }
   },
   "cell_type": "code",
   "source": [
    "# Create a list to hold each line of the legend\n",
    "legend_lines = []\n",
    "\n",
    "# Iterate over the color_map dictionary\n",
    "for tway, color in color_map.items():\n",
    "    # Create a line for the legend\n",
    "    line = f'&nbsp; <i class=\"fa fa-map-marker fa-2x\" style=\"color:{color}\"></i>&nbsp; {tway_map.get(tway, \"Other\")} <br>'\n",
    "    # Add the line to the list\n",
    "    legend_lines.append(line)\n",
    "\n",
    "# Join all the lines together to form the complete legend\n",
    "legend_content = '\\n'.join(legend_lines)\n",
    "\n",
    "# Create the legend HTML\n",
    "legend_html = f'''\n",
    "<div style=\"position: fixed; bottom: 20px; left: 50px; width: auto; height: auto;\n",
    "    border:2px solid grey; z-index:9999; font-size:14px; background-color:white;\n",
    "    padding: 10px;\">&nbsp; <b> Type of Way </b><br>\n",
    "    {legend_content}\n",
    "</div>\n",
    "'''\n",
    "\n",
    "# Add the legend to the map\n",
    "m.get_root().html.add_child(fm.Element(legend_html));\n",
    "print(legend_html)"
   ],
   "id": "5fb212f6141090eb",
   "outputs": [
    {
     "name": "stdout",
     "output_type": "stream",
     "text": [
      "\n",
      "<div style=\"position: fixed; bottom: 20px; left: 50px; width: auto; height: auto;\n",
      "    border:2px solid grey; z-index:9999; font-size:14px; background-color:white;\n",
      "    padding: 10px;\">&nbsp; <b> Type of Way </b><br>\n",
      "    &nbsp; <i class=\"fa fa-map-marker fa-2x\" style=\"color:beige\"></i>&nbsp; Two-way, divided, barrier <br>\n",
      "&nbsp; <i class=\"fa fa-map-marker fa-2x\" style=\"color:lightgreen\"></i>&nbsp; Two-way, not divided <br>\n",
      "&nbsp; <i class=\"fa fa-map-marker fa-2x\" style=\"color:lightred\"></i>&nbsp; Two-way, divided, unprotected median <br>\n",
      "&nbsp; <i class=\"fa fa-map-marker fa-2x\" style=\"color:red\"></i>&nbsp; One way <br>\n",
      "&nbsp; <i class=\"fa fa-map-marker fa-2x\" style=\"color:black\"></i>&nbsp; Other <br>\n",
      "</div>\n",
      "\n"
     ]
    }
   ],
   "execution_count": 9
  },
  {
   "metadata": {
    "ExecuteTime": {
     "end_time": "2024-07-01T02:37:49.035123Z",
     "start_time": "2024-07-01T02:37:49.032386Z"
    }
   },
   "cell_type": "code",
   "source": [
    "# Add borders to the map for South Carolina\n",
    "# Source: https://nagasudhir.blogspot.com/2021/07/draw-borders-from-geojson-paths-in.html\n",
    "# style options - https://leafletjs.com/reference-1.7.1.html#path\n",
    "bordersStyle = {\n",
    "    'color': 'green',\n",
    "    'weight': 2,\n",
    "    'fillColor': 'blue',\n",
    "    'fillOpacity': 0.1\n",
    "}\n",
    "\n",
    "# File (`south carolina.geojson`) downloaded from https://github.com/glynnbird/usstatesgeojson/blob/master/south%20carolina.geojson\n",
    "fm.GeoJson(\n",
    "    data=(open(\"south carolina.geojson\", 'r').read()),\n",
    "    name=\"South Carolina\",\n",
    "    style_function=lambda x: bordersStyle).add_to(m);"
   ],
   "id": "e8ea6bae8c7f9b60",
   "outputs": [],
   "execution_count": 10
  },
  {
   "metadata": {
    "ExecuteTime": {
     "end_time": "2024-07-01T02:38:20.328733Z",
     "start_time": "2024-07-01T02:37:49.035798Z"
    }
   },
   "cell_type": "code",
   "source": [
    "# Save the map\n",
    "f_name: str = \"sc_incidents_map_50.html\"\n",
    "# f_name: str = \"sc_incidents_map.html\"\n",
    "m.save(f_name)\n",
    "print(f\"Map has been saved as {f_name}\")"
   ],
   "id": "d806ea4dcf82c34e",
   "outputs": [
    {
     "name": "stdout",
     "output_type": "stream",
     "text": [
      "Map has been saved as sc_incidents_map_50.html\n"
     ]
    }
   ],
   "execution_count": 11
  }
 ],
 "metadata": {
  "kernelspec": {
   "display_name": "Python 3",
   "language": "python",
   "name": "python3"
  },
  "language_info": {
   "codemirror_mode": {
    "name": "ipython",
    "version": 2
   },
   "file_extension": ".py",
   "mimetype": "text/x-python",
   "name": "python",
   "nbconvert_exporter": "python",
   "pygments_lexer": "ipython2",
   "version": "2.7.6"
  }
 },
 "nbformat": 4,
 "nbformat_minor": 5
}
