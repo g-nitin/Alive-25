{
 "cells": [
  {
   "cell_type": "code",
   "id": "initial_id",
   "metadata": {
    "ExecuteTime": {
     "end_time": "2024-07-06T18:54:00.720106Z",
     "start_time": "2024-07-06T18:54:00.057083Z"
    }
   },
   "source": [
    "import pandas as pd\n",
    "import folium as fm\n",
    "from folium.plugins import MarkerCluster\n",
    "from random import sample\n",
    "import json\n",
    "from shapely.geometry import Point, Polygon"
   ],
   "outputs": [],
   "execution_count": 1
  },
  {
   "metadata": {},
   "cell_type": "markdown",
   "source": [
    "The columns in the data are:\n",
    "- `ano` is the accident number\n",
    "- `tway` stands for \"Trafficway\"\n",
    "- `day` is the day of the week\n",
    "- `lat` is the latitude\n",
    "- `lon` is the longitude\n",
    "\n",
    "Make an interactive map using Folium"
   ],
   "id": "8859d03476a2c08b"
  },
  {
   "cell_type": "markdown",
   "id": "fab638a1d6bac963",
   "metadata": {},
   "source": [
    "### Data Acquisition & Preprocessing"
   ]
  },
  {
   "cell_type": "code",
   "id": "cc77ec6291925e45",
   "metadata": {
    "ExecuteTime": {
     "end_time": "2024-07-06T18:54:03.315530Z",
     "start_time": "2024-07-06T18:54:02.679105Z"
    }
   },
   "source": [
    "# Load the data\n",
    "df = pd.read_csv('../../usc_data/sc_loc2021.csv', low_memory=False)\n",
    "df_len = df.shape[0]\n",
    "print(f\"Initial length of the data : {df_len:,}\")"
   ],
   "outputs": [
    {
     "name": "stdout",
     "output_type": "stream",
     "text": [
      "Initial length of the data : 147,724\n"
     ]
    }
   ],
   "execution_count": 2
  },
  {
   "metadata": {
    "ExecuteTime": {
     "end_time": "2024-07-06T18:54:04.290800Z",
     "start_time": "2024-07-06T18:54:04.285546Z"
    }
   },
   "cell_type": "code",
   "source": [
    "# Check the type of lat and lon columns\n",
    "print(f\"Type of lat column : {df['lat'].dtype}\")\n",
    "print(f\"Type of lon column : {df['lon'].dtype}\")"
   ],
   "id": "eab83de3c98b2d2f",
   "outputs": [
    {
     "name": "stdout",
     "output_type": "stream",
     "text": [
      "Type of lat column : object\n",
      "Type of lon column : int64\n"
     ]
    }
   ],
   "execution_count": 3
  },
  {
   "metadata": {
    "ExecuteTime": {
     "end_time": "2024-07-06T18:54:06.078733Z",
     "start_time": "2024-07-06T18:54:05.988239Z"
    }
   },
   "cell_type": "code",
   "source": [
    "# Since the lat column is of type object, we need to check if it contains any non-numeric values\n",
    "print(f\"Number of rows with non-numeric lat : {pd.to_numeric(df['lat'], errors='coerce').isnull().sum():,}\")\n",
    "\n",
    "# Get the rows with non-numeric lat\n",
    "df[pd.to_numeric(df['lat'], errors='coerce').isnull()]['lat'].to_dict()"
   ],
   "id": "6f427fa0c97dd07c",
   "outputs": [
    {
     "name": "stdout",
     "output_type": "stream",
     "text": [
      "Number of rows with non-numeric lat : 1\n"
     ]
    },
    {
     "data": {
      "text/plain": [
       "{49714: '3409-001'}"
      ]
     },
     "execution_count": 4,
     "metadata": {},
     "output_type": "execute_result"
    }
   ],
   "execution_count": 4
  },
  {
   "metadata": {
    "ExecuteTime": {
     "end_time": "2024-07-06T18:54:07.467314Z",
     "start_time": "2024-07-06T18:54:07.425271Z"
    }
   },
   "cell_type": "code",
   "source": [
    "# Convert the lat column to numeric\n",
    "# Remove hyphens from the column\n",
    "df['lat'] = df['lat'].str.replace('-', '')\n",
    "\n",
    "# Step 3: Convert the column to integer type\n",
    "df['lat'] = df['lat'].astype(int)"
   ],
   "id": "d5c88a06e8d2023e",
   "outputs": [],
   "execution_count": 5
  },
  {
   "cell_type": "code",
   "id": "83eb1cd6ff52357a",
   "metadata": {
    "ExecuteTime": {
     "end_time": "2024-07-06T18:54:09.925625Z",
     "start_time": "2024-07-06T18:54:09.917706Z"
    }
   },
   "source": [
    "print(f\"Number of rows with lat = 0               : {(df['lat'] == 0).sum():,}\")\n",
    "print(f\"Number of rows with lon = 0               : {(df['lon'] == 0).sum():,}\")\n",
    "print(f\"Number of rows with lat and lon = 0       : {((df['lat'] == 0) & (df['lon'] == 0)).sum():,}\")\n",
    "print(f\"Number of rows with either lat or lon = 0 : {((df['lat'] == 0) | (df['lon'] == 0)).sum():,}\")"
   ],
   "outputs": [
    {
     "name": "stdout",
     "output_type": "stream",
     "text": [
      "Number of rows with lat = 0               : 2,122\n",
      "Number of rows with lon = 0               : 2,136\n",
      "Number of rows with lat and lon = 0       : 2,122\n",
      "Number of rows with either lat or lon = 0 : 2,136\n"
     ]
    }
   ],
   "execution_count": 6
  },
  {
   "cell_type": "code",
   "id": "266d0e0a554e0fb0",
   "metadata": {
    "ExecuteTime": {
     "end_time": "2024-07-06T18:54:16.037652Z",
     "start_time": "2024-07-06T18:54:15.995218Z"
    }
   },
   "source": [
    "# Remove rows with lat = 0 or lon = 0\n",
    "df = df[(df['lat'] != 0) & (df['lon'] != 0)]\n",
    "print(f\"Length of the data after removing rows with lat = 0 or lon = 0 : {df.shape[0]:,}\")\n",
    "print(f\"Percentage of rows removed                                     : {((df_len - df.shape[0]) / df_len):.2%}\")"
   ],
   "outputs": [
    {
     "name": "stdout",
     "output_type": "stream",
     "text": [
      "Length of the data after removing rows with lat = 0 or lon = 0 : 145,588\n",
      "Percentage of rows removed                                     : 1.45%\n"
     ]
    }
   ],
   "execution_count": 7
  },
  {
   "cell_type": "code",
   "id": "7b10880c2f57c9b4",
   "metadata": {
    "ExecuteTime": {
     "end_time": "2024-07-06T18:54:18.839630Z",
     "start_time": "2024-07-06T18:54:18.835672Z"
    }
   },
   "source": [
    "# Convert lat and lon to correct decimal degrees\n",
    "df['lat'] = df['lat'] / 1_000_000\n",
    "df['lon'] = - (df['lon'] / 1000000)  # Note the negative sign for longitude"
   ],
   "outputs": [],
   "execution_count": 8
  },
  {
   "metadata": {},
   "cell_type": "markdown",
   "source": "### Data Filtering",
   "id": "ab9bf70151d54e94"
  },
  {
   "metadata": {
    "ExecuteTime": {
     "end_time": "2024-07-06T18:54:22.467469Z",
     "start_time": "2024-07-06T18:54:22.462593Z"
    }
   },
   "cell_type": "code",
   "source": [
    "# Load the GeoJSON file\n",
    "with open(\"south carolina.geojson\", 'r') as f:\n",
    "    sc_geojson = json.load(f)\n",
    "\n",
    "# Extract coordinates and create a Shapely polygon\n",
    "sc_coords = sc_geojson['geometry']['coordinates'][0]\n",
    "sc_polygon = Polygon(sc_coords)"
   ],
   "id": "5d40b08a073aa677",
   "outputs": [],
   "execution_count": 9
  },
  {
   "metadata": {
    "ExecuteTime": {
     "end_time": "2024-07-06T18:54:29.366085Z",
     "start_time": "2024-07-06T18:54:24.819604Z"
    }
   },
   "cell_type": "code",
   "source": [
    "# Filter points and calculate exclusion percentage\n",
    "df_len = df.shape[0]\n",
    "\n",
    "df['in_sc'] = df.apply(lambda row: sc_polygon.contains(Point(row['lon'], row['lat'])), axis=1)\n",
    "df = df[df['in_sc']]  # Keep only points within South Carolina\n",
    "\n",
    "print(f\"Total points         : {df_len:,}\")\n",
    "print(f\"Points within SC     : {df.shape[0]:,}\")\n",
    "print(f\"Excluded points      : {(df_len - df.shape[0]):,}\")\n",
    "print(f\"Exclusion percentage : {(df_len - df.shape[0])/ df_len:.2%}\")"
   ],
   "id": "68cb9a9d36b1bf49",
   "outputs": [
    {
     "name": "stdout",
     "output_type": "stream",
     "text": [
      "Total points         : 145,588\n",
      "Points within SC     : 108,100\n",
      "Excluded points      : 37,488\n",
      "Exclusion percentage : 25.75%\n"
     ]
    }
   ],
   "execution_count": 10
  },
  {
   "cell_type": "markdown",
   "id": "db15fd62995dd5e4",
   "metadata": {},
   "source": [
    "### Map Creation"
   ]
  },
  {
   "cell_type": "code",
   "id": "ee4874cdb765f038",
   "metadata": {
    "ExecuteTime": {
     "end_time": "2024-07-06T18:54:32.090792Z",
     "start_time": "2024-07-06T18:54:32.084283Z"
    }
   },
   "source": [
    "# Create a map centered on South Carolina\n",
    "sc_center_lat, sc_center_lon = 33.8361, -81.1637  # Approximate center of SC\n",
    "m = fm.Map(location=[sc_center_lat, sc_center_lon], zoom_start=7)\n",
    "\n",
    "# Create a MarkerCluster\n",
    "marker_cluster = MarkerCluster().add_to(m)"
   ],
   "outputs": [],
   "execution_count": 11
  },
  {
   "cell_type": "code",
   "id": "875448db0300bc03",
   "metadata": {
    "ExecuteTime": {
     "end_time": "2024-07-06T18:54:33.325851Z",
     "start_time": "2024-07-06T18:54:33.321963Z"
    }
   },
   "source": [
    "# The `tway` column has this meaning:\n",
    "# 1. Two-way, not divided\n",
    "# 2. Two-way, divided, unprotected median\n",
    "# 3. Two-way, divided, barrier\n",
    "# 4. One way\n",
    "# 8. Other\n",
    "# Create mapping for the `tway` column:\n",
    "tway_map = {1: 'Two-way, not divided',\n",
    "            2: 'Two-way, divided, unprotected median',\n",
    "            3: 'Two-way, divided, barrier',\n",
    "            4: 'One way',\n",
    "            8: 'Other'}\n",
    "\n",
    "# The `day` column has this meaning:\n",
    "# 1. Sunday\n",
    "# 2. Monday and so on...\n",
    "# Create mapping for the `day` column:\n",
    "day_map = {1: 'Sunday',\n",
    "           2: 'Monday',\n",
    "           3: 'Tuesday',\n",
    "           4: 'Wednesday',\n",
    "           5: 'Thursday',\n",
    "           6: 'Friday',\n",
    "           7: 'Saturday'}"
   ],
   "outputs": [],
   "execution_count": 12
  },
  {
   "cell_type": "code",
   "id": "e51395ebfbe3c9c1",
   "metadata": {
    "ExecuteTime": {
     "end_time": "2024-07-06T18:54:34.338319Z",
     "start_time": "2024-07-06T18:54:34.330170Z"
    }
   },
   "source": [
    "possible_colors = ['blue', 'darkgreen', 'cadetblue', 'lightred', \n",
    "                   'beige', 'pink', 'green', 'darkred', 'lightgreen', \n",
    "                   'lightblue', 'darkblue', 'darkpurple', 'gray', \n",
    "                   'purple', 'orange', 'lightgray', 'red', 'black']  # Not including white\n",
    "\n",
    "# Define color mapping for 'tway'\n",
    "color_map = {num: col for num, col in zip(df['tway'].unique(), sample(possible_colors, len(df['tway'].unique())))}\n",
    "color_map"
   ],
   "outputs": [
    {
     "data": {
      "text/plain": [
       "{4: 'blue', 1: 'green', 2: 'red', 8: 'lightblue', 3: 'darkpurple'}"
      ]
     },
     "execution_count": 13,
     "metadata": {},
     "output_type": "execute_result"
    }
   ],
   "execution_count": 13
  },
  {
   "cell_type": "code",
   "id": "520aa4e1d00d3ad2",
   "metadata": {
    "ExecuteTime": {
     "end_time": "2024-07-06T18:54:41.366458Z",
     "start_time": "2024-07-06T18:54:35.046149Z"
    }
   },
   "source": [
    "# Add markers to the cluster\n",
    "for idx, row in df.iterrows():    \n",
    "    fm.Marker(\n",
    "        popup = fm.Popup(f\"\"\"\n",
    "        <b>Accident Number:</b> {row['ano']}<br>\n",
    "        <b>Latitude:</b> {row['lat']}<br>\n",
    "        <b>Longitude:</b> {row['lon']}<br>\n",
    "        <b>Trafficway:</b> {tway_map.get(row['tway'], 'Other')}<br>\n",
    "        <b>Day:</b> {day_map.get(row['day'], 'Unknown')}<br>\n",
    "        \"\"\", max_width=\"100%\"),\n",
    "        location=[row['lat'], row['lon']],\n",
    "        icon=fm.Icon(color=color_map.get(row['tway'], 'gray')),\n",
    "        lazy=True\n",
    "    ).add_to(marker_cluster)"
   ],
   "outputs": [],
   "execution_count": 14
  },
  {
   "cell_type": "code",
   "id": "5fb212f6141090eb",
   "metadata": {
    "ExecuteTime": {
     "end_time": "2024-07-06T18:54:43.751817Z",
     "start_time": "2024-07-06T18:54:43.746011Z"
    }
   },
   "source": [
    "# Create a list to hold each line of the legend\n",
    "legend_lines = []\n",
    "\n",
    "# Iterate over the color_map dictionary\n",
    "for tway, color in color_map.items():\n",
    "    # Create a line for the legend\n",
    "    line = f'&nbsp; <i class=\"fa fa-map-marker fa-2x\" style=\"color:{color}\"></i>&nbsp; {tway_map.get(tway, \"Other\")} <br>'\n",
    "    # Add the line to the list\n",
    "    legend_lines.append(line)\n",
    "\n",
    "# Join all the lines together to form the complete legend\n",
    "legend_content = '\\n'.join(legend_lines)\n",
    "\n",
    "# Create the legend HTML\n",
    "legend_html = f'''\n",
    "<div style=\"position: fixed; bottom: 20px; left: 50px; width: auto; height: auto;\n",
    "    border:2px solid grey; z-index:9999; font-size:14px; background-color:white;\n",
    "    padding: 10px;\">&nbsp; <b> Type of Way </b><br>\n",
    "    {legend_content}\n",
    "</div>\n",
    "'''\n",
    "\n",
    "# Add the legend to the map\n",
    "m.get_root().html.add_child(fm.Element(legend_html));\n",
    "print(legend_html)"
   ],
   "outputs": [
    {
     "name": "stdout",
     "output_type": "stream",
     "text": [
      "\n",
      "<div style=\"position: fixed; bottom: 20px; left: 50px; width: auto; height: auto;\n",
      "    border:2px solid grey; z-index:9999; font-size:14px; background-color:white;\n",
      "    padding: 10px;\">&nbsp; <b> Type of Way </b><br>\n",
      "    &nbsp; <i class=\"fa fa-map-marker fa-2x\" style=\"color:blue\"></i>&nbsp; One way <br>\n",
      "&nbsp; <i class=\"fa fa-map-marker fa-2x\" style=\"color:green\"></i>&nbsp; Two-way, not divided <br>\n",
      "&nbsp; <i class=\"fa fa-map-marker fa-2x\" style=\"color:red\"></i>&nbsp; Two-way, divided, unprotected median <br>\n",
      "&nbsp; <i class=\"fa fa-map-marker fa-2x\" style=\"color:lightblue\"></i>&nbsp; Other <br>\n",
      "&nbsp; <i class=\"fa fa-map-marker fa-2x\" style=\"color:darkpurple\"></i>&nbsp; Two-way, divided, barrier <br>\n",
      "</div>\n",
      "\n"
     ]
    }
   ],
   "execution_count": 15
  },
  {
   "cell_type": "code",
   "id": "e8ea6bae8c7f9b60",
   "metadata": {
    "ExecuteTime": {
     "end_time": "2024-07-06T18:54:44.473210Z",
     "start_time": "2024-07-06T18:54:44.466695Z"
    }
   },
   "source": [
    "# Add borders to the map for South Carolina\n",
    "# Source: https://nagasudhir.blogspot.com/2021/07/draw-borders-from-geojson-paths-in.html\n",
    "# style options - https://leafletjs.com/reference-1.7.1.html#path\n",
    "bordersStyle = {\n",
    "    'color': 'green',\n",
    "    'weight': 2,\n",
    "    'fillColor': 'blue',\n",
    "    'fillOpacity': 0.1\n",
    "}\n",
    "\n",
    "# File (`south carolina.geojson`) downloaded from https://github.com/glynnbird/usstatesgeojson/blob/master/south%20carolina.geojson\n",
    "# File (`South Carolina County Boundaries.geojson`) downloaded from https://cartographyvectors.com/map/1123-south-carolina-with-county-boundaries\n",
    "fm.GeoJson(\n",
    "    data=(open(\"South Carolina County Boundaries.geojson\", 'r').read()),\n",
    "    name=\"South Carolina\",\n",
    "    style_function=lambda x: bordersStyle).add_to(m);"
   ],
   "outputs": [],
   "execution_count": 16
  },
  {
   "cell_type": "code",
   "id": "d806ea4dcf82c34e",
   "metadata": {
    "ExecuteTime": {
     "end_time": "2024-07-06T18:55:57.070045Z",
     "start_time": "2024-07-06T18:55:10.478583Z"
    }
   },
   "source": [
    "# Save the map\n",
    "f_name: str = \"sc_incidents_map_2021.html\"\n",
    "m.save(f_name)\n",
    "print(f\"Map has been saved as {f_name}\")"
   ],
   "outputs": [
    {
     "name": "stdout",
     "output_type": "stream",
     "text": [
      "Map has been saved as sc_incidents_map_2021.html\n"
     ]
    }
   ],
   "execution_count": 18
  },
  {
   "metadata": {},
   "cell_type": "markdown",
   "source": "",
   "id": "16d8fa8d97d5a8b1"
  }
 ],
 "metadata": {
  "kernelspec": {
   "display_name": "Python 3 (ipykernel)",
   "language": "python",
   "name": "python3"
  },
  "language_info": {
   "codemirror_mode": {
    "name": "ipython",
    "version": 3
   },
   "file_extension": ".py",
   "mimetype": "text/x-python",
   "name": "python",
   "nbconvert_exporter": "python",
   "pygments_lexer": "ipython3",
   "version": "3.11.9"
  }
 },
 "nbformat": 4,
 "nbformat_minor": 5
}
