{
 "cells": [
  {
   "cell_type": "code",
   "id": "initial_id",
   "metadata": {
    "ExecuteTime": {
     "end_time": "2024-07-06T18:20:33.100259Z",
     "start_time": "2024-07-06T18:20:32.660390Z"
    }
   },
   "source": [
    "import pandas as pd\n",
    "import folium as fm\n",
    "from folium.plugins import MarkerCluster\n",
    "from random import sample\n",
    "import json\n",
    "from shapely.geometry import Point, Polygon"
   ],
   "outputs": [],
   "execution_count": 1
  },
  {
   "metadata": {},
   "cell_type": "markdown",
   "source": [
    "The columns in the data are:\n",
    "- `ano` is the accident number\n",
    "- `tway` stands for \"Trafficway\"\n",
    "- `day` is the day of the week\n",
    "- `lat` is the latitude\n",
    "- `lon` is the longitude\n",
    "\n",
    "Make an interactive map using Folium"
   ],
   "id": "8859d03476a2c08b"
  },
  {
   "cell_type": "markdown",
   "id": "fab638a1d6bac963",
   "metadata": {},
   "source": [
    "### Data Acquisition & Preprocessing"
   ]
  },
  {
   "cell_type": "code",
   "id": "cc77ec6291925e45",
   "metadata": {
    "ExecuteTime": {
     "end_time": "2024-07-06T18:20:34.072040Z",
     "start_time": "2024-07-06T18:20:33.715417Z"
    }
   },
   "source": [
    "# Load the data\n",
    "df = pd.read_csv('../../usc_data/sc_loc2018.csv')\n",
    "df_len = df.shape[0]\n",
    "print(f\"Initial length of the data : {df_len:,}\")\n",
    "\n",
    "# df = df.sample(frac=.5)\n",
    "# print(f\"New length of the data: {df.shape[0]}\")"
   ],
   "outputs": [
    {
     "name": "stdout",
     "output_type": "stream",
     "text": [
      "Initial length of the data : 142,406\n"
     ]
    }
   ],
   "execution_count": 3
  },
  {
   "cell_type": "code",
   "id": "83eb1cd6ff52357a",
   "metadata": {
    "ExecuteTime": {
     "end_time": "2024-07-06T18:20:34.141028Z",
     "start_time": "2024-07-06T18:20:34.134837Z"
    }
   },
   "source": [
    "print(f\"Number of rows with lat = 0               : {(df['lat'] == 0).sum():,}\")\n",
    "print(f\"Number of rows with lon = 0               : {(df['lon'] == 0).sum():,}\")\n",
    "print(f\"Number of rows with lat and lon = 0       : {((df['lat'] == 0) & (df['lon'] == 0)).sum():,}\")\n",
    "print(f\"Number of rows with either lat or lon = 0 : {((df['lat'] == 0) | (df['lon'] == 0)).sum():,}\")"
   ],
   "outputs": [
    {
     "name": "stdout",
     "output_type": "stream",
     "text": [
      "Number of rows with lat = 0               : 4,874\n",
      "Number of rows with lon = 0               : 4,899\n",
      "Number of rows with lat and lon = 0       : 4,872\n",
      "Number of rows with either lat or lon = 0 : 4,901\n"
     ]
    }
   ],
   "execution_count": 4
  },
  {
   "cell_type": "code",
   "id": "266d0e0a554e0fb0",
   "metadata": {
    "ExecuteTime": {
     "end_time": "2024-07-06T18:20:34.652531Z",
     "start_time": "2024-07-06T18:20:34.622883Z"
    }
   },
   "source": [
    "# Remove rows with lat = 0 or lon = 0\n",
    "df = df[(df['lat'] != 0) & (df['lon'] != 0)]\n",
    "print(f\"Length of the data after removing rows with lat = 0 or lon = 0 : {df.shape[0]:,}\")\n",
    "print(f\"Percentage of rows removed                                     : {((df_len - df.shape[0]) / df_len) * 100:.2%}\")"
   ],
   "outputs": [
    {
     "name": "stdout",
     "output_type": "stream",
     "text": [
      "Length of the data after removing rows with lat = 0 or lon = 0 : 137,505\n",
      "Percentage of rows removed                                     : 344.16%\n"
     ]
    }
   ],
   "execution_count": 5
  },
  {
   "cell_type": "code",
   "id": "7b10880c2f57c9b4",
   "metadata": {
    "ExecuteTime": {
     "end_time": "2024-07-06T18:20:35.601349Z",
     "start_time": "2024-07-06T18:20:35.596335Z"
    }
   },
   "source": [
    "# Convert lat and lon to correct decimal degrees\n",
    "df['lat'] = df['lat'] / 1_000_000\n",
    "df['lon'] = - (df['lon'] / 1000000)  # Note the negative sign for longitude"
   ],
   "outputs": [],
   "execution_count": 6
  },
  {
   "metadata": {},
   "cell_type": "markdown",
   "source": "### Data Filtering",
   "id": "ab9bf70151d54e94"
  },
  {
   "metadata": {
    "ExecuteTime": {
     "end_time": "2024-07-06T18:20:38.773706Z",
     "start_time": "2024-07-06T18:20:38.767821Z"
    }
   },
   "cell_type": "code",
   "source": [
    "# Load the GeoJSON file\n",
    "with open(\"south carolina.geojson\", 'r') as f:\n",
    "    sc_geojson = json.load(f)\n",
    "\n",
    "# Extract coordinates and create a Shapely polygon\n",
    "sc_coords = sc_geojson['geometry']['coordinates'][0]\n",
    "sc_polygon = Polygon(sc_coords)"
   ],
   "id": "5d40b08a073aa677",
   "outputs": [],
   "execution_count": 7
  },
  {
   "metadata": {
    "ExecuteTime": {
     "end_time": "2024-07-06T18:20:43.351921Z",
     "start_time": "2024-07-06T18:20:39.124966Z"
    }
   },
   "cell_type": "code",
   "source": [
    "# Filter points and calculate exclusion percentage\n",
    "df_len = df.shape[0]\n",
    "\n",
    "df['in_sc'] = df.apply(lambda row: sc_polygon.contains(Point(row['lon'], row['lat'])), axis=1)\n",
    "df = df[df['in_sc']]  # Keep only points within South Carolina\n",
    "\n",
    "print(f\"Total points         : {df_len:,}\")\n",
    "print(f\"Points within SC     : {df.shape[0]:,}\")\n",
    "print(f\"Excluded points      : {(df_len - df.shape[0]):,}\")\n",
    "print(f\"Exclusion percentage : {(df_len - df.shape[0])/ df_len:.2%}\")"
   ],
   "id": "68cb9a9d36b1bf49",
   "outputs": [
    {
     "name": "stdout",
     "output_type": "stream",
     "text": [
      "Total points         : 137,505\n",
      "Points within SC     : 102,323\n",
      "Excluded points      : 35,182\n",
      "Exclusion percentage : 25.59%\n"
     ]
    }
   ],
   "execution_count": 8
  },
  {
   "cell_type": "markdown",
   "id": "db15fd62995dd5e4",
   "metadata": {},
   "source": [
    "### Map Creation"
   ]
  },
  {
   "cell_type": "code",
   "id": "ee4874cdb765f038",
   "metadata": {
    "ExecuteTime": {
     "end_time": "2024-07-06T18:20:55.073990Z",
     "start_time": "2024-07-06T18:20:55.066524Z"
    }
   },
   "source": [
    "# Create a map centered on South Carolina\n",
    "sc_center_lat, sc_center_lon = 33.8361, -81.1637  # Approximate center of SC\n",
    "m = fm.Map(location=[sc_center_lat, sc_center_lon], zoom_start=7)\n",
    "\n",
    "# Create a MarkerCluster\n",
    "marker_cluster = MarkerCluster().add_to(m)"
   ],
   "outputs": [],
   "execution_count": 9
  },
  {
   "cell_type": "code",
   "id": "875448db0300bc03",
   "metadata": {
    "ExecuteTime": {
     "end_time": "2024-07-06T18:20:55.380900Z",
     "start_time": "2024-07-06T18:20:55.377171Z"
    }
   },
   "source": [
    "# The `tway` column has this meaning:\n",
    "# 1. Two-way, not divided\n",
    "# 2. Two-way, divided, unprotected median\n",
    "# 3. Two-way, divided, barrier\n",
    "# 4. One way\n",
    "# 8. Other\n",
    "# Create mapping for the `tway` column:\n",
    "tway_map = {1: 'Two-way, not divided',\n",
    "            2: 'Two-way, divided, unprotected median',\n",
    "            3: 'Two-way, divided, barrier',\n",
    "            4: 'One way',\n",
    "            8: 'Other'}\n",
    "\n",
    "# The `day` column has this meaning:\n",
    "# 1. Sunday\n",
    "# 2. Monday and so on...\n",
    "# Create mapping for the `day` column:\n",
    "day_map = {1: 'Sunday',\n",
    "           2: 'Monday',\n",
    "           3: 'Tuesday',\n",
    "           4: 'Wednesday',\n",
    "           5: 'Thursday',\n",
    "           6: 'Friday',\n",
    "           7: 'Saturday'}"
   ],
   "outputs": [],
   "execution_count": 10
  },
  {
   "cell_type": "code",
   "id": "e51395ebfbe3c9c1",
   "metadata": {
    "ExecuteTime": {
     "end_time": "2024-07-06T18:20:55.619773Z",
     "start_time": "2024-07-06T18:20:55.610124Z"
    }
   },
   "source": [
    "possible_colors = ['blue', 'darkgreen', 'cadetblue', 'lightred', \n",
    "                   'beige', 'pink', 'green', 'darkred', 'lightgreen', \n",
    "                   'lightblue', 'darkblue', 'darkpurple', 'gray', \n",
    "                   'purple', 'orange', 'lightgray', 'red', 'black']  # Not including white\n",
    "\n",
    "# Define color mapping for 'tway'\n",
    "color_map = {num: col for num, col in zip(df['tway'].unique(), sample(possible_colors, len(df['tway'].unique())))}\n",
    "color_map"
   ],
   "outputs": [
    {
     "data": {
      "text/plain": [
       "{1: 'blue', 2: 'beige', 3: 'darkred', 4: 'lightred', 8: 'darkgreen'}"
      ]
     },
     "execution_count": 11,
     "metadata": {},
     "output_type": "execute_result"
    }
   ],
   "execution_count": 11
  },
  {
   "cell_type": "code",
   "id": "520aa4e1d00d3ad2",
   "metadata": {
    "ExecuteTime": {
     "end_time": "2024-07-06T18:21:01.654435Z",
     "start_time": "2024-07-06T18:20:55.833556Z"
    }
   },
   "source": [
    "# Add markers to the cluster\n",
    "for idx, row in df.iterrows():    \n",
    "    fm.Marker(\n",
    "        popup = fm.Popup(f\"\"\"\n",
    "        <b>Accident Number:</b> {row['ano']}<br>\n",
    "        <b>Latitude:</b> {row['lat']}<br>\n",
    "        <b>Longitude:</b> {row['lon']}<br>\n",
    "        <b>Trafficway:</b> {tway_map.get(row['tway'], 'Other')}<br>\n",
    "        <b>Day:</b> {day_map.get(row['day'], 'Unknown')}<br>\n",
    "        \"\"\", max_width=\"100%\"),\n",
    "        location=[row['lat'], row['lon']],\n",
    "        icon=fm.Icon(color=color_map.get(row['tway'], 'gray')),\n",
    "        lazy=True\n",
    "    ).add_to(marker_cluster)"
   ],
   "outputs": [],
   "execution_count": 12
  },
  {
   "cell_type": "code",
   "id": "5fb212f6141090eb",
   "metadata": {
    "ExecuteTime": {
     "end_time": "2024-07-06T18:21:01.657962Z",
     "start_time": "2024-07-06T18:21:01.655351Z"
    }
   },
   "source": [
    "# Create a list to hold each line of the legend\n",
    "legend_lines = []\n",
    "\n",
    "# Iterate over the color_map dictionary\n",
    "for tway, color in color_map.items():\n",
    "    # Create a line for the legend\n",
    "    line = f'&nbsp; <i class=\"fa fa-map-marker fa-2x\" style=\"color:{color}\"></i>&nbsp; {tway_map.get(tway, \"Other\")} <br>'\n",
    "    # Add the line to the list\n",
    "    legend_lines.append(line)\n",
    "\n",
    "# Join all the lines together to form the complete legend\n",
    "legend_content = '\\n'.join(legend_lines)\n",
    "\n",
    "# Create the legend HTML\n",
    "legend_html = f'''\n",
    "<div style=\"position: fixed; bottom: 20px; left: 50px; width: auto; height: auto;\n",
    "    border:2px solid grey; z-index:9999; font-size:14px; background-color:white;\n",
    "    padding: 10px;\">&nbsp; <b> Type of Way </b><br>\n",
    "    {legend_content}\n",
    "</div>\n",
    "'''\n",
    "\n",
    "# Add the legend to the map\n",
    "m.get_root().html.add_child(fm.Element(legend_html));\n",
    "print(legend_html)"
   ],
   "outputs": [
    {
     "name": "stdout",
     "output_type": "stream",
     "text": [
      "\n",
      "<div style=\"position: fixed; bottom: 20px; left: 50px; width: auto; height: auto;\n",
      "    border:2px solid grey; z-index:9999; font-size:14px; background-color:white;\n",
      "    padding: 10px;\">&nbsp; <b> Type of Way </b><br>\n",
      "    &nbsp; <i class=\"fa fa-map-marker fa-2x\" style=\"color:blue\"></i>&nbsp; Two-way, not divided <br>\n",
      "&nbsp; <i class=\"fa fa-map-marker fa-2x\" style=\"color:beige\"></i>&nbsp; Two-way, divided, unprotected median <br>\n",
      "&nbsp; <i class=\"fa fa-map-marker fa-2x\" style=\"color:darkred\"></i>&nbsp; Two-way, divided, barrier <br>\n",
      "&nbsp; <i class=\"fa fa-map-marker fa-2x\" style=\"color:lightred\"></i>&nbsp; One way <br>\n",
      "&nbsp; <i class=\"fa fa-map-marker fa-2x\" style=\"color:darkgreen\"></i>&nbsp; Other <br>\n",
      "</div>\n",
      "\n"
     ]
    }
   ],
   "execution_count": 13
  },
  {
   "cell_type": "code",
   "id": "e8ea6bae8c7f9b60",
   "metadata": {
    "ExecuteTime": {
     "end_time": "2024-07-06T18:21:01.663263Z",
     "start_time": "2024-07-06T18:21:01.658743Z"
    }
   },
   "source": [
    "# Add borders to the map for South Carolina\n",
    "# Source: https://nagasudhir.blogspot.com/2021/07/draw-borders-from-geojson-paths-in.html\n",
    "# style options - https://leafletjs.com/reference-1.7.1.html#path\n",
    "bordersStyle = {\n",
    "    'color': 'green',\n",
    "    'weight': 2,\n",
    "    'fillColor': 'blue',\n",
    "    'fillOpacity': 0.1\n",
    "}\n",
    "\n",
    "# File (`south carolina.geojson`) downloaded from https://github.com/glynnbird/usstatesgeojson/blob/master/south%20carolina.geojson\n",
    "# File (`South Carolina County Boundaries.geojson`) downloaded from https://cartographyvectors.com/map/1123-south-carolina-with-county-boundaries\n",
    "fm.GeoJson(\n",
    "    data=(open(\"South Carolina County Boundaries.geojson\", 'r').read()),\n",
    "    name=\"South Carolina\",\n",
    "    style_function=lambda x: bordersStyle).add_to(m);"
   ],
   "outputs": [],
   "execution_count": 14
  },
  {
   "cell_type": "code",
   "id": "d806ea4dcf82c34e",
   "metadata": {
    "ExecuteTime": {
     "end_time": "2024-07-06T18:21:44.013741Z",
     "start_time": "2024-07-06T18:21:01.664320Z"
    }
   },
   "source": [
    "# Save the map\n",
    "f_name: str = \"sc_incidents_map.html\"\n",
    "# f_name: str = \"sc_incidents_map_50.html\"\n",
    "m.save(f_name)\n",
    "print(f\"Map has been saved as {f_name}\")"
   ],
   "outputs": [
    {
     "name": "stdout",
     "output_type": "stream",
     "text": [
      "Map has been saved as sc_incidents_map.html\n"
     ]
    }
   ],
   "execution_count": 15
  },
  {
   "metadata": {},
   "cell_type": "markdown",
   "source": "",
   "id": "16d8fa8d97d5a8b1"
  }
 ],
 "metadata": {
  "kernelspec": {
   "display_name": "Python 3 (ipykernel)",
   "language": "python",
   "name": "python3"
  },
  "language_info": {
   "codemirror_mode": {
    "name": "ipython",
    "version": 3
   },
   "file_extension": ".py",
   "mimetype": "text/x-python",
   "name": "python",
   "nbconvert_exporter": "python",
   "pygments_lexer": "ipython3",
   "version": "3.11.9"
  }
 },
 "nbformat": 4,
 "nbformat_minor": 5
}
