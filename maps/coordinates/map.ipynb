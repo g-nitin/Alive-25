{
 "cells": [
  {
   "cell_type": "code",
   "id": "initial_id",
   "metadata": {
    "collapsed": true,
    "ExecuteTime": {
     "end_time": "2024-07-05T21:04:07.867561Z",
     "start_time": "2024-07-05T21:04:07.322055Z"
    }
   },
   "source": [
    "import pandas as pd\n",
    "import folium as fm\n",
    "from folium.plugins import MarkerCluster\n",
    "from random import sample"
   ],
   "outputs": [],
   "execution_count": 2
  },
  {
   "metadata": {
    "ExecuteTime": {
     "end_time": "2024-07-05T21:04:08.726345Z",
     "start_time": "2024-07-05T21:04:08.722566Z"
    }
   },
   "cell_type": "code",
   "source": [
    "# The columns in the data are:\n",
    "    # 'ano' is the accident number\n",
    "    # 'tway' stands for \"Trafficway\"\n",
    "    # `day` is the day of the week\n",
    "    # 'lat' is the latitude\n",
    "    # 'lon' is the longitude\n",
    "\n",
    "# Make an interactive map using Folium"
   ],
   "id": "8f965596b379c93b",
   "outputs": [],
   "execution_count": 3
  },
  {
   "metadata": {},
   "cell_type": "markdown",
   "source": "### Data Acquisition & Preprocessing",
   "id": "fab638a1d6bac963"
  },
  {
   "metadata": {
    "ExecuteTime": {
     "end_time": "2024-07-05T21:04:09.907265Z",
     "start_time": "2024-07-05T21:04:09.517381Z"
    }
   },
   "cell_type": "code",
   "source": [
    "# Load the data\n",
    "df = pd.read_csv('../../usc_data/sc_loc2018.csv')\n",
    "df_len = df.shape[0]\n",
    "print(f\"Initial length of the data: {df_len:,}\")\n",
    "\n",
    "# df = df.sample(frac=.5)\n",
    "# print(f\"New length of the data: {df.shape[0]}\")"
   ],
   "id": "cc77ec6291925e45",
   "outputs": [
    {
     "name": "stdout",
     "output_type": "stream",
     "text": [
      "Initial length of the data: 142,406\n"
     ]
    }
   ],
   "execution_count": 4
  },
  {
   "metadata": {
    "ExecuteTime": {
     "end_time": "2024-07-05T21:04:10.205019Z",
     "start_time": "2024-07-05T21:04:10.196193Z"
    }
   },
   "cell_type": "code",
   "source": [
    "print(f\"Number of rows with lat = 0: {(df['lat'] == 0).sum():,}\")\n",
    "print(f\"Number of rows with lon = 0: {(df['lon'] == 0).sum():,}\")\n",
    "print(f\"Number of rows with lat and lon = 0: {((df['lat'] == 0) & (df['lon'] == 0)).sum():,}\")\n",
    "print(f\"Number of rows with either lat or lon = 0: {((df['lat'] == 0) | (df['lon'] == 0)).sum():,}\")"
   ],
   "id": "83eb1cd6ff52357a",
   "outputs": [
    {
     "name": "stdout",
     "output_type": "stream",
     "text": [
      "Number of rows with lat = 0: 4,874\n",
      "Number of rows with lon = 0: 4,899\n",
      "Number of rows with lat and lon = 0: 4,872\n",
      "Number of rows with either lat or lon = 0: 4,901\n"
     ]
    }
   ],
   "execution_count": 5
  },
  {
   "metadata": {
    "ExecuteTime": {
     "end_time": "2024-07-05T21:04:11.955644Z",
     "start_time": "2024-07-05T21:04:11.922998Z"
    }
   },
   "cell_type": "code",
   "source": [
    "# Remove rows with lat = 0 or lon = 0\n",
    "df = df[(df['lat'] != 0) & (df['lon'] != 0)]\n",
    "print(f\"Length of the data after removing rows with lat = 0 or lon = 0: {df.shape[0]:,}\")\n",
    "print(f\"Percentage of rows removed: {((df_len - df.shape[0]) / df_len) * 100:.2f}%\")\n",
    "df_len = df.shape[0]"
   ],
   "id": "266d0e0a554e0fb0",
   "outputs": [
    {
     "name": "stdout",
     "output_type": "stream",
     "text": [
      "Length of the data after removing rows with lat = 0 or lon = 0: 137,505\n",
      "Percentage of rows removed: 3.44%\n"
     ]
    }
   ],
   "execution_count": 6
  },
  {
   "metadata": {
    "ExecuteTime": {
     "end_time": "2024-07-05T21:04:12.619748Z",
     "start_time": "2024-07-05T21:04:12.615843Z"
    }
   },
   "cell_type": "code",
   "source": [
    "# Convert lat and lon to correct decimal degrees\n",
    "df['lat'] = df['lat'] / 1_000_000\n",
    "df['lon'] = - (df['lon'] / 1000000)  # Note the negative sign for longitude"
   ],
   "id": "7b10880c2f57c9b4",
   "outputs": [],
   "execution_count": 7
  },
  {
   "metadata": {
    "ExecuteTime": {
     "end_time": "2024-07-05T21:06:16.496978Z",
     "start_time": "2024-07-05T21:06:16.493947Z"
    }
   },
   "cell_type": "code",
   "source": [
    "# Define South Carolina bounding box (approximate)\n",
    "SC_BBOX = {\n",
    "    'min_lat': 32.0,\n",
    "    'max_lat': 35.2,\n",
    "    'min_lon': -83.4,\n",
    "    'max_lon': -78.5\n",
    "}"
   ],
   "id": "8f8d9351ac0cf52b",
   "outputs": [],
   "execution_count": 19
  },
  {
   "metadata": {
    "ExecuteTime": {
     "end_time": "2024-07-05T21:06:25.035073Z",
     "start_time": "2024-07-05T21:06:24.979778Z"
    }
   },
   "cell_type": "code",
   "source": [
    "# Filter points within the bounding box\n",
    "df = df[\n",
    "    (df['lat'] >= SC_BBOX['min_lat']) & (df['lat'] <= SC_BBOX['max_lat']) &\n",
    "    (df['lon'] >= SC_BBOX['min_lon']) & (df['lon'] <= SC_BBOX['max_lon'])\n",
    "]"
   ],
   "id": "5e91953d8d13ebc5",
   "outputs": [],
   "execution_count": 20
  },
  {
   "metadata": {
    "ExecuteTime": {
     "end_time": "2024-07-05T21:06:25.552010Z",
     "start_time": "2024-07-05T21:06:25.549661Z"
    }
   },
   "cell_type": "code",
   "source": [
    "# Calculate percentage of excluded points\n",
    "print(f\"Length of the data after filtering points within the bounding box: {df.shape[0]:,}\")\n",
    "print(f\"Percentage of points excluded: {((df_len - df.shape[0]) / df_len) * 100:.2f}%\")"
   ],
   "id": "c0a2985edf6cdd7e",
   "outputs": [
    {
     "name": "stdout",
     "output_type": "stream",
     "text": [
      "Length of the data after filtering points within the bounding box: 135,137\n",
      "Percentage of points excluded: 1.72%\n"
     ]
    }
   ],
   "execution_count": 21
  },
  {
   "metadata": {},
   "cell_type": "markdown",
   "source": "### Map Creation",
   "id": "db15fd62995dd5e4"
  },
  {
   "metadata": {
    "ExecuteTime": {
     "end_time": "2024-07-05T21:06:31.490714Z",
     "start_time": "2024-07-05T21:06:31.483475Z"
    }
   },
   "cell_type": "code",
   "source": [
    "# Create a map centered on South Carolina\n",
    "sc_center_lat, sc_center_lon = 33.8361, -81.1637  # Approximate center of SC\n",
    "m = fm.Map(location=[sc_center_lat, sc_center_lon], zoom_start=7)\n",
    "\n",
    "# Create a MarkerCluster\n",
    "marker_cluster = MarkerCluster().add_to(m)"
   ],
   "id": "ee4874cdb765f038",
   "outputs": [],
   "execution_count": 22
  },
  {
   "metadata": {
    "ExecuteTime": {
     "end_time": "2024-07-05T21:06:32.095447Z",
     "start_time": "2024-07-05T21:06:32.091653Z"
    }
   },
   "cell_type": "code",
   "source": [
    "# The `tway` column has this meaning:\n",
    "# 1. Two-way, not divided\n",
    "# 2. Two-way, divided, unprotected median\n",
    "# 3. Two-way, divided, barrier\n",
    "# 4. One way\n",
    "# 8. Other\n",
    "# Create mapping for the `tway` column:\n",
    "tway_map = {1: 'Two-way, not divided',\n",
    "            2: 'Two-way, divided, unprotected median',\n",
    "            3: 'Two-way, divided, barrier',\n",
    "            4: 'One way',\n",
    "            8: 'Other'}\n",
    "\n",
    "# The `day` column has this meaning:\n",
    "# 1. Sunday\n",
    "# 2. Monday and so on...\n",
    "# Create mapping for the `day` column:\n",
    "day_map = {1: 'Sunday',\n",
    "           2: 'Monday',\n",
    "           3: 'Tuesday',\n",
    "           4: 'Wednesday',\n",
    "           5: 'Thursday',\n",
    "           6: 'Friday',\n",
    "           7: 'Saturday'}"
   ],
   "id": "875448db0300bc03",
   "outputs": [],
   "execution_count": 23
  },
  {
   "metadata": {
    "ExecuteTime": {
     "end_time": "2024-07-05T21:06:35.035816Z",
     "start_time": "2024-07-05T21:06:35.025427Z"
    }
   },
   "cell_type": "code",
   "source": [
    "possible_colors = ['blue', 'darkgreen', 'cadetblue', 'lightred', \n",
    "                   'beige', 'pink', 'green', 'darkred', 'lightgreen', \n",
    "                   'lightblue', 'darkblue', 'darkpurple', 'gray', \n",
    "                   'purple', 'orange', 'lightgray', 'red', 'black']  # Not including white\n",
    "\n",
    "# Define color mapping for 'tway'\n",
    "color_map = {num: col for num, col in zip(df['tway'].unique(), sample(possible_colors, len(df['tway'].unique())))}\n",
    "color_map"
   ],
   "id": "e51395ebfbe3c9c1",
   "execution_count": 24,
   "outputs": [
    {
     "data": {
      "text/plain": [
       "{1: 'purple', 2: 'red', 3: 'darkblue', 4: 'black', 8: 'lightgray'}"
      ]
     },
     "execution_count": 24,
     "metadata": {},
     "output_type": "execute_result"
    }
   ]
  },
  {
   "metadata": {
    "ExecuteTime": {
     "end_time": "2024-07-05T21:06:44.956894Z",
     "start_time": "2024-07-05T21:06:37.396572Z"
    }
   },
   "cell_type": "code",
   "source": [
    "# Add markers to the cluster\n",
    "for idx, row in df.iterrows():    \n",
    "    fm.Marker(\n",
    "        popup = fm.Popup(f\"\"\"\n",
    "        <b>Accident Number:</b> {row['ano']}<br>\n",
    "        <b>Latitude:</b> {row['lat']}<br>\n",
    "        <b>Longitude:</b> {row['lon']}<br>\n",
    "        <b>Trafficway:</b> {tway_map.get(row['tway'], 'Other')}<br>\n",
    "        <b>Day:</b> {day_map.get(row['day'], 'Unknown')}<br>\n",
    "        \"\"\", max_width=\"100%\"),\n",
    "        location=[row['lat'], row['lon']],\n",
    "        icon=fm.Icon(color=color_map.get(row['tway'], 'gray')),\n",
    "        lazy=True\n",
    "    ).add_to(marker_cluster)"
   ],
   "id": "520aa4e1d00d3ad2",
   "outputs": [],
   "execution_count": 25
  },
  {
   "metadata": {
    "ExecuteTime": {
     "end_time": "2024-07-05T21:06:44.960815Z",
     "start_time": "2024-07-05T21:06:44.957953Z"
    }
   },
   "cell_type": "code",
   "source": [
    "# Create a list to hold each line of the legend\n",
    "legend_lines = []\n",
    "\n",
    "# Iterate over the color_map dictionary\n",
    "for tway, color in color_map.items():\n",
    "    # Create a line for the legend\n",
    "    line = f'&nbsp; <i class=\"fa fa-map-marker fa-2x\" style=\"color:{color}\"></i>&nbsp; {tway_map.get(tway, \"Other\")} <br>'\n",
    "    # Add the line to the list\n",
    "    legend_lines.append(line)\n",
    "\n",
    "# Join all the lines together to form the complete legend\n",
    "legend_content = '\\n'.join(legend_lines)\n",
    "\n",
    "# Create the legend HTML\n",
    "legend_html = f'''\n",
    "<div style=\"position: fixed; bottom: 20px; left: 50px; width: auto; height: auto;\n",
    "    border:2px solid grey; z-index:9999; font-size:14px; background-color:white;\n",
    "    padding: 10px;\">&nbsp; <b> Type of Way </b><br>\n",
    "    {legend_content}\n",
    "</div>\n",
    "'''\n",
    "\n",
    "# Add the legend to the map\n",
    "m.get_root().html.add_child(fm.Element(legend_html));\n",
    "print(legend_html)"
   ],
   "id": "5fb212f6141090eb",
   "outputs": [
    {
     "name": "stdout",
     "output_type": "stream",
     "text": [
      "\n",
      "<div style=\"position: fixed; bottom: 20px; left: 50px; width: auto; height: auto;\n",
      "    border:2px solid grey; z-index:9999; font-size:14px; background-color:white;\n",
      "    padding: 10px;\">&nbsp; <b> Type of Way </b><br>\n",
      "    &nbsp; <i class=\"fa fa-map-marker fa-2x\" style=\"color:purple\"></i>&nbsp; Two-way, not divided <br>\n",
      "&nbsp; <i class=\"fa fa-map-marker fa-2x\" style=\"color:red\"></i>&nbsp; Two-way, divided, unprotected median <br>\n",
      "&nbsp; <i class=\"fa fa-map-marker fa-2x\" style=\"color:darkblue\"></i>&nbsp; Two-way, divided, barrier <br>\n",
      "&nbsp; <i class=\"fa fa-map-marker fa-2x\" style=\"color:black\"></i>&nbsp; One way <br>\n",
      "&nbsp; <i class=\"fa fa-map-marker fa-2x\" style=\"color:lightgray\"></i>&nbsp; Other <br>\n",
      "</div>\n",
      "\n"
     ]
    }
   ],
   "execution_count": 26
  },
  {
   "metadata": {
    "ExecuteTime": {
     "end_time": "2024-07-05T21:06:47.900070Z",
     "start_time": "2024-07-05T21:06:47.891785Z"
    }
   },
   "cell_type": "code",
   "source": [
    "# Add borders to the map for South Carolina\n",
    "# Source: https://nagasudhir.blogspot.com/2021/07/draw-borders-from-geojson-paths-in.html\n",
    "# style options - https://leafletjs.com/reference-1.7.1.html#path\n",
    "bordersStyle = {\n",
    "    'color': 'green',\n",
    "    'weight': 2,\n",
    "    'fillColor': 'blue',\n",
    "    'fillOpacity': 0.1\n",
    "}\n",
    "\n",
    "# File (`south carolina.geojson`) downloaded from https://github.com/glynnbird/usstatesgeojson/blob/master/south%20carolina.geojson\n",
    "# File (`South Carolina County Boundaries.geojson`) downloaded from https://cartographyvectors.com/map/1123-south-carolina-with-county-boundaries\n",
    "fm.GeoJson(\n",
    "    data=(open(\"South Carolina County Boundaries.geojson\", 'r').read()),\n",
    "    name=\"South Carolina\",\n",
    "    style_function=lambda x: bordersStyle).add_to(m);"
   ],
   "id": "e8ea6bae8c7f9b60",
   "outputs": [],
   "execution_count": 27
  },
  {
   "metadata": {
    "ExecuteTime": {
     "end_time": "2024-07-05T21:15:05.710625Z",
     "start_time": "2024-07-05T21:14:03.169036Z"
    }
   },
   "cell_type": "code",
   "source": [
    "# Save the map\n",
    "f_name: str = \"sc_incidents_map.html\"\n",
    "# f_name: str = \"sc_incidents_map_50.html\"\n",
    "m.save(f_name)\n",
    "print(f\"Map has been saved as {f_name}\")"
   ],
   "id": "d806ea4dcf82c34e",
   "outputs": [
    {
     "name": "stdout",
     "output_type": "stream",
     "text": [
      "Map has been saved as sc_incidents_map.html\n"
     ]
    }
   ],
   "execution_count": 29
  }
 ],
 "metadata": {
  "kernelspec": {
   "display_name": "Python 3",
   "language": "python",
   "name": "python3"
  },
  "language_info": {
   "codemirror_mode": {
    "name": "ipython",
    "version": 2
   },
   "file_extension": ".py",
   "mimetype": "text/x-python",
   "name": "python",
   "nbconvert_exporter": "python",
   "pygments_lexer": "ipython2",
   "version": "2.7.6"
  }
 },
 "nbformat": 4,
 "nbformat_minor": 5
}
