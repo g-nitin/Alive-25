{
 "cells": [
  {
   "metadata": {},
   "cell_type": "markdown",
   "source": [
    "# Exploratory Data Analysis\n",
    "\n",
    "Aim: To analyze trends across multiple years of traffic collision datasets and confirm statistical significance.\n"
   ],
   "id": "3e0bbf9f10a2b28f"
  },
  {
   "metadata": {
    "ExecuteTime": {
     "end_time": "2024-07-01T02:24:34.938840Z",
     "start_time": "2024-07-01T02:24:34.813640Z"
    }
   },
   "cell_type": "code",
   "source": [
    "import pandas as pd\n",
    "import numpy as np\n",
    "from scipy import stats\n",
    "import matplotlib.pyplot as plt\n",
    "from matplotlib.backends.backend_pdf import PdfPages\n",
    "import seaborn as sns\n",
    "from pprint import pprint"
   ],
   "id": "6150b042272ec66e",
   "outputs": [],
   "execution_count": 66
  },
  {
   "metadata": {},
   "cell_type": "markdown",
   "source": "<br>",
   "id": "a055265f5d6655d0"
  },
  {
   "metadata": {},
   "cell_type": "markdown",
   "source": "## Data Acquisition",
   "id": "aae122e57669aea"
  },
  {
   "metadata": {
    "ExecuteTime": {
     "end_time": "2024-07-01T01:36:56.208151Z",
     "start_time": "2024-07-01T01:36:51.915758Z"
    }
   },
   "cell_type": "code",
   "source": [
    "# Read all dataframes and store in a list\n",
    "years: list[str] = [\"2017\", \"2018\", \"2019\", \"2020\", \"2021\"]\n",
    "\n",
    "dfs: dict[str, pd.DataFrame] = {year: pd.read_csv(f\"../usc_data/sc_unt{year}.csv\", low_memory=False) for year in years}"
   ],
   "id": "e0e1993add0006c4",
   "outputs": [],
   "execution_count": 9
  },
  {
   "metadata": {
    "ExecuteTime": {
     "end_time": "2024-07-01T01:38:40.031294Z",
     "start_time": "2024-07-01T01:38:40.029300Z"
    }
   },
   "cell_type": "code",
   "source": [
    "# Length of each dataframe\n",
    "for year, df in dfs.items():\n",
    "    print(f\"{year}: {len(df):,}\")"
   ],
   "id": "c8811ba2728f3188",
   "outputs": [
    {
     "name": "stdout",
     "output_type": "stream",
     "text": [
      "2017: 268,999\n",
      "2018: 269,752\n",
      "2019: 268,227\n",
      "2020: 224,591\n",
      "2021: 274,401\n"
     ]
    }
   ],
   "execution_count": 16
  },
  {
   "metadata": {
    "ExecuteTime": {
     "end_time": "2024-07-01T01:48:43.311686Z",
     "start_time": "2024-07-01T01:48:43.308630Z"
    }
   },
   "cell_type": "code",
   "source": [
    "# Check which features are available in each dataframe\n",
    "columns: list[set[str]] = []\n",
    "for df in dfs.values():\n",
    "    columns.append(set(df.columns))  # Get all column names\n",
    "\n",
    "print(f\"Number of columns in each dataframe: {[len(columns) for columns in columns]}\")\n",
    "\n",
    "unique_cols: set[str] = columns[0].intersection(*columns)  # Intersection of all column names\n",
    "print(f\"Number of unique columns: {len(unique_cols)}\")"
   ],
   "id": "5fa78746e2f6eaa4",
   "outputs": [
    {
     "name": "stdout",
     "output_type": "stream",
     "text": [
      "Number of columns in each dataframe: [47, 47, 47, 47, 47]\n",
      "Number of unique columns: 47\n"
     ]
    }
   ],
   "execution_count": 36
  },
  {
   "metadata": {},
   "cell_type": "markdown",
   "source": "<br>",
   "id": "87a4dca858066bf4"
  },
  {
   "metadata": {},
   "cell_type": "markdown",
   "source": [
    "## Data Analysis\n",
    "Since all columns appear in all dataframes, see the trend of each variable over the years\n",
    "<br>Aim is to see if there is a trend in the data."
   ],
   "id": "d8a769dac3bc3805"
  },
  {
   "metadata": {
    "ExecuteTime": {
     "end_time": "2024-07-01T02:05:35.524468Z",
     "start_time": "2024-07-01T02:05:35.499574Z"
    }
   },
   "cell_type": "code",
   "source": [
    "# For each dataframe, add a 'year' column\n",
    "for year, df in dfs.items():\n",
    "    df['year'] = year"
   ],
   "id": "bc79e7ce99565f0c",
   "outputs": [],
   "execution_count": 44
  },
  {
   "metadata": {
    "ExecuteTime": {
     "end_time": "2024-07-01T02:05:50.490248Z",
     "start_time": "2024-07-01T02:05:50.130270Z"
    }
   },
   "cell_type": "code",
   "source": [
    "# Concatenate all dataframes\n",
    "df: pd.DataFrame = pd.concat(dfs.values(), ignore_index=True)"
   ],
   "id": "7fdb26659872df5c",
   "outputs": [],
   "execution_count": 47
  },
  {
   "metadata": {
    "ExecuteTime": {
     "end_time": "2024-07-01T02:07:40.552687Z",
     "start_time": "2024-07-01T02:07:39.145202Z"
    }
   },
   "cell_type": "code",
   "source": [
    "# Analyze trends for each NUMERIC variable\n",
    "numeric_cols: pd.Index = df.select_dtypes(include=[np.number]).columns\n",
    "print(f\"Number of numeric columns: {len(numeric_cols)}\\n\")\n",
    "\n",
    "trends: dict[str, pd.Series] = {}  # Store mean of each numeric column for each year\n",
    "for col in numeric_cols:\n",
    "    trends[col] = df.groupby('year')[col].mean()\n",
    "    \n",
    "pd.DataFrame(trends)"
   ],
   "id": "2deaf1279e1f3a86",
   "outputs": [
    {
     "name": "stdout",
     "output_type": "stream",
     "text": [
      "Number of numeric columns: 27\n",
      "\n"
     ]
    },
    {
     "data": {
      "text/plain": [
       "               ano        spl        utc       vuc       api          edp  \\\n",
       "year                                                                        \n",
       "2017  1.751230e+07  42.823821   9.882119  1.610820  7.565233  1702.516843   \n",
       "2018  1.855833e+07  43.004679  10.028945  1.631806  7.536693  1782.653972   \n",
       "2019  1.956362e+07  42.842381  10.183147  1.611974  7.471041  1997.934768   \n",
       "2020  2.036490e+07  42.869119   9.913242  1.629967  7.333313   263.864218   \n",
       "2021  2.138130e+07  43.258939  10.514346  1.626576  7.320141   200.647662   \n",
       "\n",
       "          towd      edam        mhe          pd2  ...        bdt       soe1  \\\n",
       "year                                              ...                         \n",
       "2017       NaN  2.183384  24.407291  1270.515401  ...  13.898116  20.971554   \n",
       "2018       NaN  2.198523  24.529857  1688.594374  ...  13.892883  20.975377   \n",
       "2019       NaN  2.197430  24.360437  1648.004316  ...  14.032791  21.002889   \n",
       "2020  0.475111  2.287126  24.972065    31.330312  ...  17.195238  20.766260   \n",
       "2021  0.439986  2.291675  24.607636    31.004020  ...  20.100394  20.891358   \n",
       "\n",
       "           soe2       soe3       soe4          ead       fda        mda  \\\n",
       "year                                                                      \n",
       "2017  30.205857  38.677496  37.927545  2410.547117  9.860293  11.499745   \n",
       "2018  30.589912  39.066484  39.055884  2502.059501  9.651604  11.265588   \n",
       "2019  30.261866  38.812373  38.067112  2534.871199  9.600946  11.400526   \n",
       "2020  31.556665  39.280714  39.240007  2800.612793  9.982207  12.240655   \n",
       "2021  31.066628  39.272846  38.959001  2929.007906  9.995474  12.179970   \n",
       "\n",
       "          atr2       noc  \n",
       "year                      \n",
       "2017  0.123683  1.361960  \n",
       "2018  0.122562  1.352665  \n",
       "2019  0.123629  1.351840  \n",
       "2020  0.513581  1.308454  \n",
       "2021  0.543851  1.312382  \n",
       "\n",
       "[5 rows x 27 columns]"
      ],
      "text/html": [
       "<div>\n",
       "<style scoped>\n",
       "    .dataframe tbody tr th:only-of-type {\n",
       "        vertical-align: middle;\n",
       "    }\n",
       "\n",
       "    .dataframe tbody tr th {\n",
       "        vertical-align: top;\n",
       "    }\n",
       "\n",
       "    .dataframe thead th {\n",
       "        text-align: right;\n",
       "    }\n",
       "</style>\n",
       "<table border=\"1\" class=\"dataframe\">\n",
       "  <thead>\n",
       "    <tr style=\"text-align: right;\">\n",
       "      <th></th>\n",
       "      <th>ano</th>\n",
       "      <th>spl</th>\n",
       "      <th>utc</th>\n",
       "      <th>vuc</th>\n",
       "      <th>api</th>\n",
       "      <th>edp</th>\n",
       "      <th>towd</th>\n",
       "      <th>edam</th>\n",
       "      <th>mhe</th>\n",
       "      <th>pd2</th>\n",
       "      <th>...</th>\n",
       "      <th>bdt</th>\n",
       "      <th>soe1</th>\n",
       "      <th>soe2</th>\n",
       "      <th>soe3</th>\n",
       "      <th>soe4</th>\n",
       "      <th>ead</th>\n",
       "      <th>fda</th>\n",
       "      <th>mda</th>\n",
       "      <th>atr2</th>\n",
       "      <th>noc</th>\n",
       "    </tr>\n",
       "    <tr>\n",
       "      <th>year</th>\n",
       "      <th></th>\n",
       "      <th></th>\n",
       "      <th></th>\n",
       "      <th></th>\n",
       "      <th></th>\n",
       "      <th></th>\n",
       "      <th></th>\n",
       "      <th></th>\n",
       "      <th></th>\n",
       "      <th></th>\n",
       "      <th></th>\n",
       "      <th></th>\n",
       "      <th></th>\n",
       "      <th></th>\n",
       "      <th></th>\n",
       "      <th></th>\n",
       "      <th></th>\n",
       "      <th></th>\n",
       "      <th></th>\n",
       "      <th></th>\n",
       "      <th></th>\n",
       "    </tr>\n",
       "  </thead>\n",
       "  <tbody>\n",
       "    <tr>\n",
       "      <th>2017</th>\n",
       "      <td>1.751230e+07</td>\n",
       "      <td>42.823821</td>\n",
       "      <td>9.882119</td>\n",
       "      <td>1.610820</td>\n",
       "      <td>7.565233</td>\n",
       "      <td>1702.516843</td>\n",
       "      <td>NaN</td>\n",
       "      <td>2.183384</td>\n",
       "      <td>24.407291</td>\n",
       "      <td>1270.515401</td>\n",
       "      <td>...</td>\n",
       "      <td>13.898116</td>\n",
       "      <td>20.971554</td>\n",
       "      <td>30.205857</td>\n",
       "      <td>38.677496</td>\n",
       "      <td>37.927545</td>\n",
       "      <td>2410.547117</td>\n",
       "      <td>9.860293</td>\n",
       "      <td>11.499745</td>\n",
       "      <td>0.123683</td>\n",
       "      <td>1.361960</td>\n",
       "    </tr>\n",
       "    <tr>\n",
       "      <th>2018</th>\n",
       "      <td>1.855833e+07</td>\n",
       "      <td>43.004679</td>\n",
       "      <td>10.028945</td>\n",
       "      <td>1.631806</td>\n",
       "      <td>7.536693</td>\n",
       "      <td>1782.653972</td>\n",
       "      <td>NaN</td>\n",
       "      <td>2.198523</td>\n",
       "      <td>24.529857</td>\n",
       "      <td>1688.594374</td>\n",
       "      <td>...</td>\n",
       "      <td>13.892883</td>\n",
       "      <td>20.975377</td>\n",
       "      <td>30.589912</td>\n",
       "      <td>39.066484</td>\n",
       "      <td>39.055884</td>\n",
       "      <td>2502.059501</td>\n",
       "      <td>9.651604</td>\n",
       "      <td>11.265588</td>\n",
       "      <td>0.122562</td>\n",
       "      <td>1.352665</td>\n",
       "    </tr>\n",
       "    <tr>\n",
       "      <th>2019</th>\n",
       "      <td>1.956362e+07</td>\n",
       "      <td>42.842381</td>\n",
       "      <td>10.183147</td>\n",
       "      <td>1.611974</td>\n",
       "      <td>7.471041</td>\n",
       "      <td>1997.934768</td>\n",
       "      <td>NaN</td>\n",
       "      <td>2.197430</td>\n",
       "      <td>24.360437</td>\n",
       "      <td>1648.004316</td>\n",
       "      <td>...</td>\n",
       "      <td>14.032791</td>\n",
       "      <td>21.002889</td>\n",
       "      <td>30.261866</td>\n",
       "      <td>38.812373</td>\n",
       "      <td>38.067112</td>\n",
       "      <td>2534.871199</td>\n",
       "      <td>9.600946</td>\n",
       "      <td>11.400526</td>\n",
       "      <td>0.123629</td>\n",
       "      <td>1.351840</td>\n",
       "    </tr>\n",
       "    <tr>\n",
       "      <th>2020</th>\n",
       "      <td>2.036490e+07</td>\n",
       "      <td>42.869119</td>\n",
       "      <td>9.913242</td>\n",
       "      <td>1.629967</td>\n",
       "      <td>7.333313</td>\n",
       "      <td>263.864218</td>\n",
       "      <td>0.475111</td>\n",
       "      <td>2.287126</td>\n",
       "      <td>24.972065</td>\n",
       "      <td>31.330312</td>\n",
       "      <td>...</td>\n",
       "      <td>17.195238</td>\n",
       "      <td>20.766260</td>\n",
       "      <td>31.556665</td>\n",
       "      <td>39.280714</td>\n",
       "      <td>39.240007</td>\n",
       "      <td>2800.612793</td>\n",
       "      <td>9.982207</td>\n",
       "      <td>12.240655</td>\n",
       "      <td>0.513581</td>\n",
       "      <td>1.308454</td>\n",
       "    </tr>\n",
       "    <tr>\n",
       "      <th>2021</th>\n",
       "      <td>2.138130e+07</td>\n",
       "      <td>43.258939</td>\n",
       "      <td>10.514346</td>\n",
       "      <td>1.626576</td>\n",
       "      <td>7.320141</td>\n",
       "      <td>200.647662</td>\n",
       "      <td>0.439986</td>\n",
       "      <td>2.291675</td>\n",
       "      <td>24.607636</td>\n",
       "      <td>31.004020</td>\n",
       "      <td>...</td>\n",
       "      <td>20.100394</td>\n",
       "      <td>20.891358</td>\n",
       "      <td>31.066628</td>\n",
       "      <td>39.272846</td>\n",
       "      <td>38.959001</td>\n",
       "      <td>2929.007906</td>\n",
       "      <td>9.995474</td>\n",
       "      <td>12.179970</td>\n",
       "      <td>0.543851</td>\n",
       "      <td>1.312382</td>\n",
       "    </tr>\n",
       "  </tbody>\n",
       "</table>\n",
       "<p>5 rows × 27 columns</p>\n",
       "</div>"
      ]
     },
     "execution_count": 50,
     "metadata": {},
     "output_type": "execute_result"
    }
   ],
   "execution_count": 50
  },
  {
   "metadata": {
    "ExecuteTime": {
     "end_time": "2024-07-01T02:13:52.582169Z",
     "start_time": "2024-07-01T02:13:42.144014Z"
    }
   },
   "cell_type": "code",
   "source": [
    "# Perform statistical tests\n",
    "results: dict[str, dict[str, float]] = {}  # Store f-statistic and p-value for each numeric column\n",
    "for col in numeric_cols:\n",
    "    f_statistic, p_value = stats.f_oneway(*[group[col].values for name, group in df.groupby('year')])\n",
    "    results[col] = {'f_statistic': f_statistic, 'p_value': p_value}\n",
    "\n",
    "pprint(results)"
   ],
   "id": "29b79174e6cb6d7a",
   "outputs": [
    {
     "name": "stdout",
     "output_type": "stream",
     "text": [
      "{'ano': {'f_statistic': 20321557.39101855, 'p_value': 0.0},\n",
      " 'api': {'f_statistic': 53.18099220364458, 'p_value': 6.952150927344713e-45},\n",
      " 'atg': {'f_statistic': nan, 'p_value': nan},\n",
      " 'atr2': {'f_statistic': nan, 'p_value': nan},\n",
      " 'att': {'f_statistic': nan, 'p_value': nan},\n",
      " 'bdt': {'f_statistic': nan, 'p_value': nan},\n",
      " 'dtg': {'f_statistic': nan, 'p_value': nan},\n",
      " 'dtr': {'f_statistic': nan, 'p_value': nan},\n",
      " 'dtt': {'f_statistic': nan, 'p_value': nan},\n",
      " 'ead': {'f_statistic': nan, 'p_value': nan},\n",
      " 'edam': {'f_statistic': 299.81908948392373, 'p_value': 3.007198201730087e-258},\n",
      " 'edp': {'f_statistic': nan, 'p_value': nan},\n",
      " 'fda': {'f_statistic': nan, 'p_value': nan},\n",
      " 'man': {'f_statistic': nan, 'p_value': nan},\n",
      " 'mda': {'f_statistic': 106.46040724111148, 'p_value': 7.49635469232373e-91},\n",
      " 'mhe': {'f_statistic': 152.5359172325894, 'p_value': 1.0605886759435779e-130},\n",
      " 'noc': {'f_statistic': 254.24670618440157, 'p_value': 9.054378168553607e-219},\n",
      " 'pd2': {'f_statistic': nan, 'p_value': nan},\n",
      " 'soe1': {'f_statistic': nan, 'p_value': nan},\n",
      " 'soe2': {'f_statistic': nan, 'p_value': nan},\n",
      " 'soe3': {'f_statistic': nan, 'p_value': nan},\n",
      " 'soe4': {'f_statistic': nan, 'p_value': nan},\n",
      " 'spl': {'f_statistic': nan, 'p_value': nan},\n",
      " 'towd': {'f_statistic': nan, 'p_value': nan},\n",
      " 'uor': {'f_statistic': 14.876406410098353, 'p_value': 3.687038242349453e-12},\n",
      " 'utc': {'f_statistic': 83.24883352977628, 'p_value': 8.39648984723992e-71},\n",
      " 'vuc': {'f_statistic': 2.497550513716401, 'p_value': 0.04059356765557953}}\n"
     ]
    }
   ],
   "execution_count": 63
  },
  {
   "metadata": {
    "ExecuteTime": {
     "end_time": "2024-07-01T02:26:22.850106Z",
     "start_time": "2024-07-01T02:26:21.964132Z"
    }
   },
   "cell_type": "code",
   "source": [
    "# Visualize the results\n",
    "\n",
    "# Create a PdfPages object\n",
    "pdf_filename = 'stats_results.pdf'\n",
    "pdf = PdfPages(pdf_filename)\n",
    "\n",
    "for col, yearly_means in trends.items():\n",
    "    plt.figure(figsize=(10, 6))\n",
    "    yearly_means.plot(marker='o')\n",
    "    plt.title(f'Trend of {col} over years')\n",
    "    plt.xlabel('Year')\n",
    "    plt.ylabel('Mean value')\n",
    "    \n",
    "    p_value = results[col]['p_value']\n",
    "    plt.annotate(f'p-value: {p_value:.4f}', xy=(0.05, 0.95), xycoords='axes fraction')\n",
    "    # plt.show()\n",
    "\n",
    "    pdf.savefig()  # Save the current figure to the PDF\n",
    "    plt.close()  # Close the current figure\n",
    "\n",
    "pdf.close()  # Close the PdfPages object\n",
    "print(f'All plots are saved to {pdf_filename}')"
   ],
   "id": "a3bfdda1082c917d",
   "outputs": [
    {
     "name": "stdout",
     "output_type": "stream",
     "text": [
      "All plots are saved to stats_results.pdf\n"
     ]
    }
   ],
   "execution_count": 67
  }
 ],
 "metadata": {
  "kernelspec": {
   "display_name": "Python 3",
   "language": "python",
   "name": "python3"
  },
  "language_info": {
   "codemirror_mode": {
    "name": "ipython",
    "version": 2
   },
   "file_extension": ".py",
   "mimetype": "text/x-python",
   "name": "python",
   "nbconvert_exporter": "python",
   "pygments_lexer": "ipython2",
   "version": "2.7.6"
  }
 },
 "nbformat": 4,
 "nbformat_minor": 5
}
