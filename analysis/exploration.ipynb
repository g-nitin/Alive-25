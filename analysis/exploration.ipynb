{
 "cells": [
  {
   "metadata": {},
   "cell_type": "markdown",
   "source": [
    "# Exploratory Data Analysis\n",
    "\n",
    "Aim: To analyze trends across multiple years of traffic collision datasets and confirm statistical significance.\n"
   ],
   "id": "3e0bbf9f10a2b28f"
  },
  {
   "metadata": {
    "ExecuteTime": {
     "end_time": "2024-07-01T02:24:34.938840Z",
     "start_time": "2024-07-01T02:24:34.813640Z"
    }
   },
   "cell_type": "code",
   "source": [
    "import pandas as pd\n",
    "import numpy as np\n",
    "from scipy import stats\n",
    "import matplotlib.pyplot as plt\n",
    "from matplotlib.backends.backend_pdf import PdfPages\n",
    "import seaborn as sns\n",
    "from pprint import pprint"
   ],
   "id": "6150b042272ec66e",
   "outputs": [],
   "execution_count": 66
  },
  {
   "metadata": {},
   "cell_type": "markdown",
   "source": "<br>",
   "id": "a055265f5d6655d0"
  },
  {
   "metadata": {},
   "cell_type": "markdown",
   "source": "## Data Acquisition",
   "id": "aae122e57669aea"
  },
  {
   "metadata": {
    "ExecuteTime": {
     "end_time": "2024-07-01T01:36:56.208151Z",
     "start_time": "2024-07-01T01:36:51.915758Z"
    }
   },
   "cell_type": "code",
   "source": [
    "# Read all dataframes and store in a list\n",
    "years: list[str] = [\"2017\", \"2018\", \"2019\", \"2020\", \"2021\"]\n",
    "\n",
    "dfs: dict[str, pd.DataFrame] = {year: pd.read_csv(f\"../usc_data/sc_unt{year}.csv\", low_memory=False) for year in years}"
   ],
   "id": "e0e1993add0006c4",
   "outputs": [],
   "execution_count": 9
  },
  {
   "metadata": {
    "ExecuteTime": {
     "end_time": "2024-07-01T01:38:40.031294Z",
     "start_time": "2024-07-01T01:38:40.029300Z"
    }
   },
   "cell_type": "code",
   "source": [
    "# Length of each dataframe\n",
    "for year, df in dfs.items():\n",
    "    print(f\"{year}: {len(df):,}\")"
   ],
   "id": "c8811ba2728f3188",
   "outputs": [
    {
     "name": "stdout",
     "output_type": "stream",
     "text": [
      "2017: 268,999\n",
      "2018: 269,752\n",
      "2019: 268,227\n",
      "2020: 224,591\n",
      "2021: 274,401\n"
     ]
    }
   ],
   "execution_count": 16
  },
  {
   "metadata": {
    "ExecuteTime": {
     "end_time": "2024-07-01T01:48:43.311686Z",
     "start_time": "2024-07-01T01:48:43.308630Z"
    }
   },
   "cell_type": "code",
   "source": [
    "# Check which features are available in each dataframe\n",
    "columns: list[set[str]] = []\n",
    "for df in dfs.values():\n",
    "    columns.append(set(df.columns))  # Get all column names\n",
    "\n",
    "print(f\"Number of columns in each dataframe: {[len(columns) for columns in columns]}\")\n",
    "\n",
    "unique_cols: set[str] = columns[0].intersection(*columns)  # Intersection of all column names\n",
    "print(f\"Number of unique columns: {len(unique_cols)}\")"
   ],
   "id": "5fa78746e2f6eaa4",
   "outputs": [
    {
     "name": "stdout",
     "output_type": "stream",
     "text": [
      "Number of columns in each dataframe: [47, 47, 47, 47, 47]\n",
      "Number of unique columns: 47\n"
     ]
    }
   ],
   "execution_count": 36
  },
  {
   "metadata": {},
   "cell_type": "markdown",
   "source": "<br>",
   "id": "87a4dca858066bf4"
  },
  {
   "metadata": {},
   "cell_type": "markdown",
   "source": [
    "## Data Analysis\n",
    "Since all columns appear in all dataframes, see the trend of each variable over the years\n",
    "<br>Aim is to see if there is a trend in the data."
   ],
   "id": "d8a769dac3bc3805"
  },
  {
   "metadata": {},
   "cell_type": "markdown",
   "source": [
    "### Numeric Variable Analysis\n",
    "Analyze trends for each NUMERIC variable."
   ],
   "id": "9c00ec4a50b168bb"
  },
  {
   "metadata": {
    "ExecuteTime": {
     "end_time": "2024-07-01T02:05:35.524468Z",
     "start_time": "2024-07-01T02:05:35.499574Z"
    }
   },
   "cell_type": "code",
   "source": [
    "# For each dataframe, add a 'year' column\n",
    "for year, df in dfs.items():\n",
    "    df['year'] = year"
   ],
   "id": "bc79e7ce99565f0c",
   "outputs": [],
   "execution_count": 44
  },
  {
   "metadata": {
    "ExecuteTime": {
     "end_time": "2024-07-01T02:05:50.490248Z",
     "start_time": "2024-07-01T02:05:50.130270Z"
    }
   },
   "cell_type": "code",
   "source": [
    "# Concatenate all dataframes\n",
    "df: pd.DataFrame = pd.concat(dfs.values(), ignore_index=True)"
   ],
   "id": "7fdb26659872df5c",
   "outputs": [],
   "execution_count": 47
  },
  {
   "metadata": {
    "ExecuteTime": {
     "end_time": "2024-07-01T03:03:18.752751Z",
     "start_time": "2024-07-01T03:03:17.368049Z"
    }
   },
   "cell_type": "code",
   "source": [
    "# Check for missing values\n",
    "print(\"\\nMissing values:\")\n",
    "pprint(df.isnull().sum())"
   ],
   "id": "837754937653b933",
   "outputs": [
    {
     "name": "stdout",
     "output_type": "stream",
     "text": [
      "\n",
      "Missing values:\n",
      "ano           0\n",
      "aun           0\n",
      "dsex          0\n",
      "drac          0\n",
      "dls       72360\n",
      "dlc      108502\n",
      "vmk       57041\n",
      "rps        6378\n",
      "vry       76716\n",
      "cta           0\n",
      "spl       24158\n",
      "csn      963302\n",
      "vlc1     965403\n",
      "vlc2    1268401\n",
      "dot           0\n",
      "utc           0\n",
      "vuc           0\n",
      "vat           0\n",
      "api           0\n",
      "edp      993674\n",
      "towd    1049925\n",
      "edam          0\n",
      "mhe           0\n",
      "pd2     1028748\n",
      "adi           0\n",
      "cn2     1268089\n",
      "tbr           0\n",
      "man      610187\n",
      "uor           0\n",
      "atg     1253551\n",
      "dtg     1256860\n",
      "att     1288683\n",
      "dtt     1299524\n",
      "dtr     1302690\n",
      "bdt     1292027\n",
      "soe1          5\n",
      "soe2    1073377\n",
      "soe3    1214845\n",
      "soe4    1274122\n",
      "ecs       12864\n",
      "ead        1896\n",
      "fda         136\n",
      "mda           0\n",
      "atr2    1293125\n",
      "vin      124745\n",
      "noc           0\n",
      "cdl           0\n",
      "year          0\n",
      "dtype: int64\n"
     ]
    }
   ],
   "execution_count": 77
  },
  {
   "metadata": {
    "ExecuteTime": {
     "end_time": "2024-07-01T02:07:40.552687Z",
     "start_time": "2024-07-01T02:07:39.145202Z"
    }
   },
   "cell_type": "code",
   "source": [
    "# Analyze trends for each NUMERIC variable\n",
    "numeric_cols: pd.Index = df.select_dtypes(include=[np.number]).columns\n",
    "print(f\"Number of numeric columns: {len(numeric_cols)}\\n\")\n",
    "\n",
    "trends: dict[str, pd.Series] = {}  # Store mean of each numeric column for each year\n",
    "for col in numeric_cols:\n",
    "    trends[col] = df.groupby('year')[col].mean()\n",
    "    \n",
    "pd.DataFrame(trends)"
   ],
   "id": "2deaf1279e1f3a86",
   "outputs": [
    {
     "name": "stdout",
     "output_type": "stream",
     "text": [
      "Number of numeric columns: 27\n",
      "\n"
     ]
    },
    {
     "data": {
      "text/plain": [
       "               ano        spl        utc       vuc       api          edp  \\\n",
       "year                                                                        \n",
       "2017  1.751230e+07  42.823821   9.882119  1.610820  7.565233  1702.516843   \n",
       "2018  1.855833e+07  43.004679  10.028945  1.631806  7.536693  1782.653972   \n",
       "2019  1.956362e+07  42.842381  10.183147  1.611974  7.471041  1997.934768   \n",
       "2020  2.036490e+07  42.869119   9.913242  1.629967  7.333313   263.864218   \n",
       "2021  2.138130e+07  43.258939  10.514346  1.626576  7.320141   200.647662   \n",
       "\n",
       "          towd      edam        mhe          pd2  ...        bdt       soe1  \\\n",
       "year                                              ...                         \n",
       "2017       NaN  2.183384  24.407291  1270.515401  ...  13.898116  20.971554   \n",
       "2018       NaN  2.198523  24.529857  1688.594374  ...  13.892883  20.975377   \n",
       "2019       NaN  2.197430  24.360437  1648.004316  ...  14.032791  21.002889   \n",
       "2020  0.475111  2.287126  24.972065    31.330312  ...  17.195238  20.766260   \n",
       "2021  0.439986  2.291675  24.607636    31.004020  ...  20.100394  20.891358   \n",
       "\n",
       "           soe2       soe3       soe4          ead       fda        mda  \\\n",
       "year                                                                      \n",
       "2017  30.205857  38.677496  37.927545  2410.547117  9.860293  11.499745   \n",
       "2018  30.589912  39.066484  39.055884  2502.059501  9.651604  11.265588   \n",
       "2019  30.261866  38.812373  38.067112  2534.871199  9.600946  11.400526   \n",
       "2020  31.556665  39.280714  39.240007  2800.612793  9.982207  12.240655   \n",
       "2021  31.066628  39.272846  38.959001  2929.007906  9.995474  12.179970   \n",
       "\n",
       "          atr2       noc  \n",
       "year                      \n",
       "2017  0.123683  1.361960  \n",
       "2018  0.122562  1.352665  \n",
       "2019  0.123629  1.351840  \n",
       "2020  0.513581  1.308454  \n",
       "2021  0.543851  1.312382  \n",
       "\n",
       "[5 rows x 27 columns]"
      ],
      "text/html": [
       "<div>\n",
       "<style scoped>\n",
       "    .dataframe tbody tr th:only-of-type {\n",
       "        vertical-align: middle;\n",
       "    }\n",
       "\n",
       "    .dataframe tbody tr th {\n",
       "        vertical-align: top;\n",
       "    }\n",
       "\n",
       "    .dataframe thead th {\n",
       "        text-align: right;\n",
       "    }\n",
       "</style>\n",
       "<table border=\"1\" class=\"dataframe\">\n",
       "  <thead>\n",
       "    <tr style=\"text-align: right;\">\n",
       "      <th></th>\n",
       "      <th>ano</th>\n",
       "      <th>spl</th>\n",
       "      <th>utc</th>\n",
       "      <th>vuc</th>\n",
       "      <th>api</th>\n",
       "      <th>edp</th>\n",
       "      <th>towd</th>\n",
       "      <th>edam</th>\n",
       "      <th>mhe</th>\n",
       "      <th>pd2</th>\n",
       "      <th>...</th>\n",
       "      <th>bdt</th>\n",
       "      <th>soe1</th>\n",
       "      <th>soe2</th>\n",
       "      <th>soe3</th>\n",
       "      <th>soe4</th>\n",
       "      <th>ead</th>\n",
       "      <th>fda</th>\n",
       "      <th>mda</th>\n",
       "      <th>atr2</th>\n",
       "      <th>noc</th>\n",
       "    </tr>\n",
       "    <tr>\n",
       "      <th>year</th>\n",
       "      <th></th>\n",
       "      <th></th>\n",
       "      <th></th>\n",
       "      <th></th>\n",
       "      <th></th>\n",
       "      <th></th>\n",
       "      <th></th>\n",
       "      <th></th>\n",
       "      <th></th>\n",
       "      <th></th>\n",
       "      <th></th>\n",
       "      <th></th>\n",
       "      <th></th>\n",
       "      <th></th>\n",
       "      <th></th>\n",
       "      <th></th>\n",
       "      <th></th>\n",
       "      <th></th>\n",
       "      <th></th>\n",
       "      <th></th>\n",
       "      <th></th>\n",
       "    </tr>\n",
       "  </thead>\n",
       "  <tbody>\n",
       "    <tr>\n",
       "      <th>2017</th>\n",
       "      <td>1.751230e+07</td>\n",
       "      <td>42.823821</td>\n",
       "      <td>9.882119</td>\n",
       "      <td>1.610820</td>\n",
       "      <td>7.565233</td>\n",
       "      <td>1702.516843</td>\n",
       "      <td>NaN</td>\n",
       "      <td>2.183384</td>\n",
       "      <td>24.407291</td>\n",
       "      <td>1270.515401</td>\n",
       "      <td>...</td>\n",
       "      <td>13.898116</td>\n",
       "      <td>20.971554</td>\n",
       "      <td>30.205857</td>\n",
       "      <td>38.677496</td>\n",
       "      <td>37.927545</td>\n",
       "      <td>2410.547117</td>\n",
       "      <td>9.860293</td>\n",
       "      <td>11.499745</td>\n",
       "      <td>0.123683</td>\n",
       "      <td>1.361960</td>\n",
       "    </tr>\n",
       "    <tr>\n",
       "      <th>2018</th>\n",
       "      <td>1.855833e+07</td>\n",
       "      <td>43.004679</td>\n",
       "      <td>10.028945</td>\n",
       "      <td>1.631806</td>\n",
       "      <td>7.536693</td>\n",
       "      <td>1782.653972</td>\n",
       "      <td>NaN</td>\n",
       "      <td>2.198523</td>\n",
       "      <td>24.529857</td>\n",
       "      <td>1688.594374</td>\n",
       "      <td>...</td>\n",
       "      <td>13.892883</td>\n",
       "      <td>20.975377</td>\n",
       "      <td>30.589912</td>\n",
       "      <td>39.066484</td>\n",
       "      <td>39.055884</td>\n",
       "      <td>2502.059501</td>\n",
       "      <td>9.651604</td>\n",
       "      <td>11.265588</td>\n",
       "      <td>0.122562</td>\n",
       "      <td>1.352665</td>\n",
       "    </tr>\n",
       "    <tr>\n",
       "      <th>2019</th>\n",
       "      <td>1.956362e+07</td>\n",
       "      <td>42.842381</td>\n",
       "      <td>10.183147</td>\n",
       "      <td>1.611974</td>\n",
       "      <td>7.471041</td>\n",
       "      <td>1997.934768</td>\n",
       "      <td>NaN</td>\n",
       "      <td>2.197430</td>\n",
       "      <td>24.360437</td>\n",
       "      <td>1648.004316</td>\n",
       "      <td>...</td>\n",
       "      <td>14.032791</td>\n",
       "      <td>21.002889</td>\n",
       "      <td>30.261866</td>\n",
       "      <td>38.812373</td>\n",
       "      <td>38.067112</td>\n",
       "      <td>2534.871199</td>\n",
       "      <td>9.600946</td>\n",
       "      <td>11.400526</td>\n",
       "      <td>0.123629</td>\n",
       "      <td>1.351840</td>\n",
       "    </tr>\n",
       "    <tr>\n",
       "      <th>2020</th>\n",
       "      <td>2.036490e+07</td>\n",
       "      <td>42.869119</td>\n",
       "      <td>9.913242</td>\n",
       "      <td>1.629967</td>\n",
       "      <td>7.333313</td>\n",
       "      <td>263.864218</td>\n",
       "      <td>0.475111</td>\n",
       "      <td>2.287126</td>\n",
       "      <td>24.972065</td>\n",
       "      <td>31.330312</td>\n",
       "      <td>...</td>\n",
       "      <td>17.195238</td>\n",
       "      <td>20.766260</td>\n",
       "      <td>31.556665</td>\n",
       "      <td>39.280714</td>\n",
       "      <td>39.240007</td>\n",
       "      <td>2800.612793</td>\n",
       "      <td>9.982207</td>\n",
       "      <td>12.240655</td>\n",
       "      <td>0.513581</td>\n",
       "      <td>1.308454</td>\n",
       "    </tr>\n",
       "    <tr>\n",
       "      <th>2021</th>\n",
       "      <td>2.138130e+07</td>\n",
       "      <td>43.258939</td>\n",
       "      <td>10.514346</td>\n",
       "      <td>1.626576</td>\n",
       "      <td>7.320141</td>\n",
       "      <td>200.647662</td>\n",
       "      <td>0.439986</td>\n",
       "      <td>2.291675</td>\n",
       "      <td>24.607636</td>\n",
       "      <td>31.004020</td>\n",
       "      <td>...</td>\n",
       "      <td>20.100394</td>\n",
       "      <td>20.891358</td>\n",
       "      <td>31.066628</td>\n",
       "      <td>39.272846</td>\n",
       "      <td>38.959001</td>\n",
       "      <td>2929.007906</td>\n",
       "      <td>9.995474</td>\n",
       "      <td>12.179970</td>\n",
       "      <td>0.543851</td>\n",
       "      <td>1.312382</td>\n",
       "    </tr>\n",
       "  </tbody>\n",
       "</table>\n",
       "<p>5 rows × 27 columns</p>\n",
       "</div>"
      ]
     },
     "execution_count": 50,
     "metadata": {},
     "output_type": "execute_result"
    }
   ],
   "execution_count": 50
  },
  {
   "metadata": {
    "ExecuteTime": {
     "end_time": "2024-07-01T02:57:20.437279Z",
     "start_time": "2024-07-01T02:57:01.129500Z"
    }
   },
   "cell_type": "code",
   "source": [
    "# Perform statistical tests\n",
    "\n",
    "# Store f-statistic and p-value for each numeric column\n",
    "# Optionally, store any error that occurs during the test\n",
    "results: dict[str, dict[str, float | str]] = {}\n",
    "\n",
    "for col in numeric_cols:\n",
    "    # Get all non-null values for each year\n",
    "    groups: list[np.ndarray] = [group[col].dropna().values for name, group in df.groupby('year')]\n",
    "    groups = [group for group in groups if len(group) > 0]  # Filter out empty groups\n",
    "\n",
    "    if len(groups) > 1:  # We need at least two groups to perform ANOVA\n",
    "        try:\n",
    "            f_statistic, p_value = stats.f_oneway(*groups)\n",
    "            results[col] = {'f_statistic': f_statistic, 'p_value': p_value, 'error': None}\n",
    "        except Exception as e:\n",
    "            results[col] = {'f_statistic': np.nan, 'p_value': np.nan, 'error': str(e)}\n",
    "    else:\n",
    "        results[col] = {'f_statistic': np.nan, 'p_value': np.nan, 'error': 'Insufficient data for ANOVA'}\n",
    "\n",
    "pprint(results)"
   ],
   "id": "d0b09e545fd9c953",
   "outputs": [
    {
     "name": "stdout",
     "output_type": "stream",
     "text": [
      "{'ano': {'error': None, 'f_statistic': 20321557.39101855, 'p_value': 0.0},\n",
      " 'api': {'error': None,\n",
      "         'f_statistic': 53.18099220364458,\n",
      "         'p_value': 6.952150927344713e-45},\n",
      " 'atg': {'error': None,\n",
      "         'f_statistic': 155.4552627945712,\n",
      "         'p_value': 1.8066517974270518e-132},\n",
      " 'atr2': {'error': None,\n",
      "          'f_statistic': 86.93878351949263,\n",
      "          'p_value': 5.267835991261363e-73},\n",
      " 'att': {'error': None,\n",
      "         'f_statistic': 5.871810380560359,\n",
      "         'p_value': 0.0001018643497923717},\n",
      " 'bdt': {'error': None,\n",
      "         'f_statistic': 11.63514004875466,\n",
      "         'p_value': 1.969553959872833e-09},\n",
      " 'dtg': {'error': None,\n",
      "         'f_statistic': 130.62314083129147,\n",
      "         'p_value': 3.5948209676862604e-111},\n",
      " 'dtr': {'error': None,\n",
      "         'f_statistic': 3.969750322105519,\n",
      "         'p_value': 0.0032336945345348782},\n",
      " 'dtt': {'error': None,\n",
      "         'f_statistic': 0.31131156984883707,\n",
      "         'p_value': 0.8705822208856117},\n",
      " 'ead': {'error': None, 'f_statistic': 868.9335500116994, 'p_value': 0.0},\n",
      " 'edam': {'error': None,\n",
      "          'f_statistic': 299.81908948392373,\n",
      "          'p_value': 3.007198201730087e-258},\n",
      " 'edp': {'error': None,\n",
      "         'f_statistic': 316.35129967409705,\n",
      "         'p_value': 3.767808746015928e-272},\n",
      " 'fda': {'error': None,\n",
      "         'f_statistic': 24.357190059026156,\n",
      "         'p_value': 3.4741855568680494e-20},\n",
      " 'man': {'error': None,\n",
      "         'f_statistic': 20.805553518934584,\n",
      "         'p_value': 3.623085659064574e-17},\n",
      " 'mda': {'error': None,\n",
      "         'f_statistic': 106.46040724111148,\n",
      "         'p_value': 7.49635469232373e-91},\n",
      " 'mhe': {'error': None,\n",
      "         'f_statistic': 152.5359172325894,\n",
      "         'p_value': 1.0605886759435779e-130},\n",
      " 'noc': {'error': None,\n",
      "         'f_statistic': 254.24670618440157,\n",
      "         'p_value': 9.054378168553607e-219},\n",
      " 'pd2': {'error': None, 'f_statistic': 4179.885578786675, 'p_value': 0.0},\n",
      " 'soe1': {'error': None,\n",
      "          'f_statistic': 65.07157119219572,\n",
      "          'p_value': 4.007216431752959e-55},\n",
      " 'soe2': {'error': None,\n",
      "          'f_statistic': 41.03885904688262,\n",
      "          'p_value': 1.931322998094473e-34},\n",
      " 'soe3': {'error': None,\n",
      "          'f_statistic': 3.095283870647184,\n",
      "          'p_value': 0.014735524895138411},\n",
      " 'soe4': {'error': None,\n",
      "          'f_statistic': 4.721993826051655,\n",
      "          'p_value': 0.0008286625135630789},\n",
      " 'spl': {'error': None,\n",
      "         'f_statistic': 74.14828620329241,\n",
      "         'p_value': 5.984349671647512e-63},\n",
      " 'towd': {'error': None,\n",
      "          'f_statistic': 313.4262629319061,\n",
      "          'p_value': 4.312579312928553e-70},\n",
      " 'uor': {'error': None,\n",
      "         'f_statistic': 14.876406410098353,\n",
      "         'p_value': 3.687038242349453e-12},\n",
      " 'utc': {'error': None,\n",
      "         'f_statistic': 83.24883352977628,\n",
      "         'p_value': 8.39648984723992e-71},\n",
      " 'vuc': {'error': None,\n",
      "         'f_statistic': 2.497550513716401,\n",
      "         'p_value': 0.04059356765557953}}\n"
     ]
    }
   ],
   "execution_count": 73
  },
  {
   "metadata": {
    "ExecuteTime": {
     "end_time": "2024-07-01T03:01:00.148640Z",
     "start_time": "2024-07-01T03:00:58.057429Z"
    }
   },
   "cell_type": "code",
   "source": [
    "# Visualize the results\n",
    "pdf_filename = 'stats_results.pdf'\n",
    "pdf = PdfPages(pdf_filename)  # Create a PdfPages object\n",
    "\n",
    "for col, yearly_means in trends.items():\n",
    "    plt.figure(figsize=(10, 6))\n",
    "    yearly_means.plot(marker='o')\n",
    "    plt.title(f'Trend of {col} over years')\n",
    "    plt.xlabel('Year')\n",
    "    plt.ylabel('Mean value')\n",
    "\n",
    "    result = results[col]\n",
    "    if result['error'] is None:\n",
    "        annotation = f\"f-statistic: {result['f_statistic']:.4f}\\np-value: {result['p_value']:.4f}\"\n",
    "    else:\n",
    "        annotation = f\"Error: {result['error']}\"\n",
    "    \n",
    "    plt.annotate(annotation, xy=(0.05, 0.95), xycoords='axes fraction', va='top')\n",
    "    # plt.show()\n",
    "\n",
    "    pdf.savefig()  # Save the current figure to the PDF\n",
    "    plt.close()  # Close the current figure\n",
    "\n",
    "pdf.close()  # Close the PdfPages object\n",
    "print(f'All plots are saved to {pdf_filename}')"
   ],
   "id": "74650fb7736c860f",
   "outputs": [
    {
     "name": "stdout",
     "output_type": "stream",
     "text": [
      "All plots are saved to stats_results.pdf\n"
     ]
    }
   ],
   "execution_count": 75
  }
 ],
 "metadata": {
  "kernelspec": {
   "display_name": "Python 3",
   "language": "python",
   "name": "python3"
  },
  "language_info": {
   "codemirror_mode": {
    "name": "ipython",
    "version": 2
   },
   "file_extension": ".py",
   "mimetype": "text/x-python",
   "name": "python",
   "nbconvert_exporter": "python",
   "pygments_lexer": "ipython2",
   "version": "2.7.6"
  }
 },
 "nbformat": 4,
 "nbformat_minor": 5
}
