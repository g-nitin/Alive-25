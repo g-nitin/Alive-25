{
 "cells": [
  {
   "cell_type": "code",
   "id": "initial_id",
   "metadata": {
    "collapsed": true,
    "jupyter": {
     "is_executing": true
    }
   },
   "source": [
    "import geopandas as gpd\n",
    "import pandas as pd\n",
    "import folium as fm\n",
    "from folium.plugins import MarkerCluster"
   ],
   "outputs": [],
   "execution_count": null
  },
  {
   "metadata": {
    "jupyter": {
     "is_executing": true
    }
   },
   "cell_type": "code",
   "source": [
    "df = gpd.read_file('sample_data_loc2018.csv')\n",
    "df"
   ],
   "id": "38fd53a2a29d8822",
   "outputs": [],
   "execution_count": null
  },
  {
   "metadata": {
    "jupyter": {
     "is_executing": true
    }
   },
   "cell_type": "code",
   "source": [
    "# Since we don't know what the columns mean, we can't plot assumptions...\n",
    "# Assumption:\n",
    "    # 'tway' stands for \"type of way\" or roadway classification.\n",
    "    # 'lat' is the latitude\n",
    "    # 'lon' is the longitude\n",
    "\n",
    "# Make an interactive map using Folium\n",
    "# Note, since geopandas doesn't automatically detect the geometry from the data, we need to pre-process the data. "
   ],
   "id": "8f965596b379c93b",
   "outputs": [],
   "execution_count": null
  },
  {
   "metadata": {
    "jupyter": {
     "is_executing": true
    }
   },
   "cell_type": "code",
   "source": [
    "# Load the data\n",
    "df = pd.read_csv('sample_data_loc2018.csv')\n",
    "\n",
    "# Convert lat and lon to correct decimal degrees\n",
    "df['lat'] = df['lat'] / 1000000\n",
    "df['lon'] = - (df['lon'] / 1000000)  # Note the negative sign for longitude\n",
    "\n",
    "# Remove rows with invalid lat/lon\n",
    "df = df.dropna(subset=['lat', 'lon'])\n",
    "\n",
    "# Create a map centered on South Carolina\n",
    "sc_center_lat, sc_center_lon = 33.8361, -81.1637  # Approximate center of SC\n",
    "m = fm.Map(location=[sc_center_lat, sc_center_lon], zoom_start=7)\n",
    "\n",
    "# Create a MarkerCluster\n",
    "marker_cluster = MarkerCluster().add_to(m)\n",
    "\n",
    "# Define color mapping for 'tway'\n",
    "color_map = {1: 'red', 2: 'blue', 3: 'green', 4: 'purple', 5: 'orange'}\n",
    "\n",
    "# Add markers to the cluster\n",
    "for idx, row in df.iterrows():\n",
    "    fm.Marker(\n",
    "        location=[row['lat'], row['lon']],\n",
    "        popup=f\"Type: {row['tway']}, Road: {row['als']}\",\n",
    "        icon=fm.Icon(color=color_map.get(row['tway'], 'gray'))\n",
    "    ).add_to(marker_cluster)\n",
    "\n",
    "# Add a legend\n",
    "legend_html = '''\n",
    "<div style=\"position: fixed; bottom: 20px; left: 50px; width: 100px; height: 175px; \n",
    "    border:2px solid grey; z-index:9999; font-size:14px; background-color:white;\n",
    "    \">&nbsp; <b> Type of Way </b><br>\n",
    "    &nbsp; <i class=\"fa fa-map-marker fa-2x\" style=\"color:red\"></i>&nbsp; Type 1 <br>\n",
    "    &nbsp; <i class=\"fa fa-map-marker fa-2x\" style=\"color:blue\"></i>&nbsp; Type 2 <br>\n",
    "    &nbsp; <i class=\"fa fa-map-marker fa-2x\" style=\"color:green\"></i>&nbsp; Type 3 <br>\n",
    "    &nbsp; <i class=\"fa fa-map-marker fa-2x\" style=\"color:purple\"></i>&nbsp; Type 4 <br>\n",
    "    &nbsp; <i class=\"fa fa-map-marker fa-2x\" style=\"color:orange\"></i>&nbsp; Type 5 <br>\n",
    "</div>\n",
    "'''\n",
    "m.get_root().html.add_child(fm.Element(legend_html))\n",
    "\n",
    "# Add borders to the map for South Carolina\n",
    "# Source: https://nagasudhir.blogspot.com/2021/07/draw-borders-from-geojson-paths-in.html\n",
    "# style options - https://leafletjs.com/reference-1.7.1.html#path\n",
    "bordersStyle = {\n",
    "    'color': 'green',\n",
    "    'weight': 2,\n",
    "    'fillColor': 'blue',\n",
    "    'fillOpacity': 0.1\n",
    "}\n",
    "\n",
    "# File (`south carolina.geojson`) downloaded from https://github.com/glynnbird/usstatesgeojson/blob/master/south%20carolina.geojson\n",
    "fm.GeoJson(\n",
    "    data=(open(\"south carolina.geojson\", 'r').read()),\n",
    "    name=\"South Carolina\",\n",
    "    style_function=lambda x: bordersStyle).add_to(m)\n",
    "\n",
    "# Save the map\n",
    "m.save(\"south_carolina_traffic_incidents_map.html\")\n",
    "\n",
    "print(\"Map has been saved as 'south_carolina_traffic_incidents_map.html'\")"
   ],
   "id": "520aa4e1d00d3ad2",
   "outputs": [],
   "execution_count": null
  },
  {
   "metadata": {
    "jupyter": {
     "is_executing": true
    }
   },
   "cell_type": "code",
   "source": "m",
   "id": "f892f7dec6023027",
   "outputs": [],
   "execution_count": null
  }
 ],
 "metadata": {
  "kernelspec": {
   "display_name": "Python 3",
   "language": "python",
   "name": "python3"
  },
  "language_info": {
   "codemirror_mode": {
    "name": "ipython",
    "version": 2
   },
   "file_extension": ".py",
   "mimetype": "text/x-python",
   "name": "python",
   "nbconvert_exporter": "python",
   "pygments_lexer": "ipython2",
   "version": "2.7.6"
  }
 },
 "nbformat": 4,
 "nbformat_minor": 5
}
